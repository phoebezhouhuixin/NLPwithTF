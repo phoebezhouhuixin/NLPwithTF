{
  "nbformat": 4,
  "nbformat_minor": 0,
  "metadata": {
    "accelerator": "GPU",
    "colab": {
      "name": "Kopie von NLP Course - Week 3 Exercise Answer.ipynb",
      "provenance": [],
      "toc_visible": true,
      "include_colab_link": true
    },
    "kernelspec": {
      "display_name": "Python 3",
      "language": "python",
      "name": "python3"
    },
    "language_info": {
      "codemirror_mode": {
        "name": "ipython",
        "version": 3
      },
      "file_extension": ".py",
      "mimetype": "text/x-python",
      "name": "python",
      "nbconvert_exporter": "python",
      "pygments_lexer": "ipython3",
      "version": "3.7.6"
    }
  },
  "cells": [
    {
      "cell_type": "markdown",
      "metadata": {
        "id": "view-in-github",
        "colab_type": "text"
      },
      "source": [
        "<a href=\"https://colab.research.google.com/github/phoebezhouhuixin/NLPwithTF/blob/master/Kopie_von_NLP_Course_Week_3_Exercise_Answer.ipynb\" target=\"_parent\"><img src=\"https://colab.research.google.com/assets/colab-badge.svg\" alt=\"Open In Colab\"/></a>"
      ]
    },
    {
      "cell_type": "code",
      "metadata": {
        "colab_type": "code",
        "id": "zX4Kg8DUTKWO",
        "colab": {}
      },
      "source": [
        "#@title Licensed under the Apache License, Version 2.0 (the \"License\");\n",
        "# you may not use this file except in compliance with the License.\n",
        "# You may obtain a copy of the License at\n",
        "#\n",
        "# https://www.apache.org/licenses/LICENSE-2.0\n",
        "#\n",
        "# Unless required by applicable law or agreed to in writing, software\n",
        "# distributed under the License is distributed on an \"AS IS\" BASIS,\n",
        "# WITHOUT WARRANTIES OR CONDITIONS OF ANY KIND, either express or implied.\n",
        "# See the License for the specific language governing permissions and\n",
        "# limitations under the License."
      ],
      "execution_count": 1,
      "outputs": []
    },
    {
      "cell_type": "markdown",
      "metadata": {
        "id": "3bN1qHaB2_Tk",
        "colab_type": "text"
      },
      "source": [
        "<a href=\"https://colab.research.google.com/github/lmoroney/dlaicourse/blob/master/TensorFlow%20In%20Practice/Course%203%20-%20NLP/NLP%20Course%20-%20Week%203%20Exercise%20Answer.ipynb\" target=\"_parent\"><img src=\"https://colab.research.google.com/assets/colab-badge.svg\" alt=\"Open In Colab\"/></a>"
      ]
    },
    {
      "cell_type": "code",
      "metadata": {
        "colab_type": "code",
        "id": "hmA6EzkQJ5jt",
        "colab": {}
      },
      "source": [
        "import json\n",
        "import tensorflow as tf\n",
        "import csv\n",
        "import random\n",
        "import numpy as np\n",
        "\n",
        "from tensorflow.keras.preprocessing.text import Tokenizer\n",
        "from tensorflow.keras.preprocessing.sequence import pad_sequences\n",
        "from tensorflow.keras.utils import to_categorical\n",
        "from tensorflow.keras import regularizers\n",
        "\n",
        "\n",
        "embedding_dim = 100\n",
        "max_length = 16\n",
        "trunc_type='post'\n",
        "padding_type='post'\n",
        "oov_tok = \"<OOV>\"\n",
        "training_size=160000\n",
        "test_portion=.1\n",
        "\n",
        "corpus = []\n"
      ],
      "execution_count": 2,
      "outputs": []
    },
    {
      "cell_type": "code",
      "metadata": {
        "colab_type": "code",
        "id": "bM0l_dORKqE0",
        "colab": {
          "base_uri": "https://localhost:8080/",
          "height": 212
        },
        "outputId": "0c228e67-5dae-46b9-c321-8725ff2831e0"
      },
      "source": [
        "# Note that I cleaned the Stanford dataset to remove LATIN1 encoding to make it easier for Python CSV reader\n",
        "# You can do that yourself with:\n",
        "# iconv -f LATIN1 -t UTF8 training.1600000.processed.noemoticon.csv -o training_cleaned.csv\n",
        "# I then hosted it on my site to make it easier to use in this notebook\n",
        "\n",
        "!wget --no-check-certificate \\\n",
        "    https://storage.googleapis.com/laurencemoroney-blog.appspot.com/training_cleaned.csv \\\n",
        "    -O /tmp/training_cleaned.csv\n",
        "\n",
        "num_sentences = 0\n",
        "\n",
        "with open(\"/tmp/training_cleaned.csv\") as csvfile:\n",
        "    reader = csv.reader(csvfile, delimiter=',')\n",
        "    for row in reader:\n",
        "        list_item=[]\n",
        "        list_item.append(row[5])\n",
        "        this_label=row[0]\n",
        "        if this_label=='0':\n",
        "            list_item.append(0)\n",
        "        else:\n",
        "            list_item.append(1)\n",
        "        num_sentences = num_sentences + 1\n",
        "        corpus.append(list_item)\n"
      ],
      "execution_count": 3,
      "outputs": [
        {
          "output_type": "stream",
          "text": [
            "--2020-07-19 16:40:16--  https://storage.googleapis.com/laurencemoroney-blog.appspot.com/training_cleaned.csv\n",
            "Resolving storage.googleapis.com (storage.googleapis.com)... 173.194.69.128, 173.194.79.128, 108.177.119.128, ...\n",
            "Connecting to storage.googleapis.com (storage.googleapis.com)|173.194.69.128|:443... connected.\n",
            "HTTP request sent, awaiting response... 200 OK\n",
            "Length: 238942690 (228M) [application/octet-stream]\n",
            "Saving to: ‘/tmp/training_cleaned.csv’\n",
            "\n",
            "/tmp/training_clean 100%[===================>] 227.87M  87.9MB/s    in 2.6s    \n",
            "\n",
            "2020-07-19 16:40:20 (87.9 MB/s) - ‘/tmp/training_cleaned.csv’ saved [238942690/238942690]\n",
            "\n"
          ],
          "name": "stdout"
        }
      ]
    },
    {
      "cell_type": "code",
      "metadata": {
        "colab_type": "code",
        "id": "3kxblBUjEUX-",
        "colab": {
          "base_uri": "https://localhost:8080/",
          "height": 70
        },
        "outputId": "ea702be9-84dd-4d56-c480-b1a9d6932d90"
      },
      "source": [
        "print(num_sentences)\n",
        "print(len(corpus))\n",
        "print(corpus[1])\n",
        "\n",
        "# Expected Output:\n",
        "# 1600000\n",
        "# 1600000\n",
        "# [\"is upset that he can't update his Facebook by texting it... and might cry as a result  School today also. Blah!\", 0]"
      ],
      "execution_count": 4,
      "outputs": [
        {
          "output_type": "stream",
          "text": [
            "1600000\n",
            "1600000\n",
            "[\"is upset that he can't update his Facebook by texting it... and might cry as a result  School today also. Blah!\", 0]\n"
          ],
          "name": "stdout"
        }
      ]
    },
    {
      "cell_type": "code",
      "metadata": {
        "colab_type": "code",
        "id": "ohOGz24lsNAD",
        "colab": {}
      },
      "source": [
        "sentences=[]\n",
        "labels=[]\n",
        "random.shuffle(corpus)\n",
        "for x in range(training_size):\n",
        "    sentences.append(corpus[x][0])\n",
        "    labels.append(corpus[x][1])\n",
        "\n",
        "\n",
        "tokenizer = Tokenizer()\n",
        "tokenizer.fit_on_texts(sentences)\n",
        "\n",
        "word_index = tokenizer.word_index\n",
        "vocab_size=len(word_index)\n",
        "\n",
        "sequences = tokenizer.texts_to_sequences(sentences)\n",
        "padded = pad_sequences(sequences, maxlen=max_length, padding=padding_type, truncating=trunc_type)\n",
        "\n",
        "split = int(test_portion * training_size)\n",
        "\n",
        "test_sequences = padded[0:split]\n",
        "training_sequences = padded[split:training_size]\n",
        "test_labels = labels[0:split]\n",
        "training_labels = labels[split:training_size]"
      ],
      "execution_count": 5,
      "outputs": []
    },
    {
      "cell_type": "code",
      "metadata": {
        "colab_type": "code",
        "id": "gIrtRem1En3N",
        "colab": {
          "base_uri": "https://localhost:8080/",
          "height": 52
        },
        "outputId": "c7fe7b54-e22d-42f3-c3d5-9e37ccee2176"
      },
      "source": [
        "print(vocab_size)\n",
        "print(word_index['i'])\n",
        "# Expected Output\n",
        "# 138858\n",
        "# 1"
      ],
      "execution_count": 6,
      "outputs": [
        {
          "output_type": "stream",
          "text": [
            "139163\n",
            "1\n"
          ],
          "name": "stdout"
        }
      ]
    },
    {
      "cell_type": "code",
      "metadata": {
        "colab_type": "code",
        "id": "C1zdgJkusRh0",
        "colab": {
          "base_uri": "https://localhost:8080/",
          "height": 212
        },
        "outputId": "18d3da9d-fd99-4c1b-ec49-9bfa0389830d"
      },
      "source": [
        "# Note this is the 100 dimension version of GloVe from Stanford\n",
        "# I unzipped and hosted it on my site to make this notebook easier\n",
        "!wget --no-check-certificate \\\n",
        "    https://storage.googleapis.com/laurencemoroney-blog.appspot.com/glove.6B.100d.txt \\\n",
        "    -O /tmp/glove.6B.100d.txt\n",
        "embeddings_index = {};\n",
        "with open('/tmp/glove.6B.100d.txt') as f:\n",
        "    for line in f:\n",
        "        values = line.split();\n",
        "        word = values[0];\n",
        "        coefs = np.asarray(values[1:], dtype='float32');\n",
        "        embeddings_index[word] = coefs;\n",
        "\n",
        "embeddings_matrix = np.zeros((vocab_size+1, embedding_dim)); \n",
        "for word, i in word_index.items():\n",
        "    embedding_vector = embeddings_index.get(word);\n",
        "    if embedding_vector is not None:\n",
        "        embeddings_matrix[i] = embedding_vector;"
      ],
      "execution_count": 7,
      "outputs": [
        {
          "output_type": "stream",
          "text": [
            "--2020-07-19 16:40:33--  https://storage.googleapis.com/laurencemoroney-blog.appspot.com/glove.6B.100d.txt\n",
            "Resolving storage.googleapis.com (storage.googleapis.com)... 108.177.127.128, 74.125.143.128, 173.194.79.128, ...\n",
            "Connecting to storage.googleapis.com (storage.googleapis.com)|108.177.127.128|:443... connected.\n",
            "HTTP request sent, awaiting response... 200 OK\n",
            "Length: 347116733 (331M) [text/plain]\n",
            "Saving to: ‘/tmp/glove.6B.100d.txt’\n",
            "\n",
            "/tmp/glove.6B.100d. 100%[===================>] 331.04M  83.2MB/s    in 4.0s    \n",
            "\n",
            "2020-07-19 16:40:38 (83.2 MB/s) - ‘/tmp/glove.6B.100d.txt’ saved [347116733/347116733]\n",
            "\n"
          ],
          "name": "stdout"
        }
      ]
    },
    {
      "cell_type": "code",
      "metadata": {
        "colab_type": "code",
        "id": "71NLk_lpFLNt",
        "colab": {
          "base_uri": "https://localhost:8080/",
          "height": 34
        },
        "outputId": "1ab52a9b-bd98-49f3-85c9-65b2bd77a4fa"
      },
      "source": [
        "print(len(embeddings_matrix))\n",
        "# Expected Output\n",
        "# 138859"
      ],
      "execution_count": 8,
      "outputs": [
        {
          "output_type": "stream",
          "text": [
            "139164\n"
          ],
          "name": "stdout"
        }
      ]
    },
    {
      "cell_type": "code",
      "metadata": {
        "colab_type": "code",
        "id": "iKKvbuEBOGFz",
        "colab": {
          "base_uri": "https://localhost:8080/",
          "height": 1000
        },
        "outputId": "cd31d637-6e78-46aa-d3e5-24d32ad0b37d"
      },
      "source": [
        "model = tf.keras.Sequential([\n",
        "    tf.keras.layers.Embedding(vocab_size+1, embedding_dim, input_length=max_length, weights=[embeddings_matrix], trainable=False),\n",
        "    tf.keras.layers.Dropout(0.2),\n",
        "    tf.keras.layers.Conv1D(64, 5, activation='relu'),\n",
        "    tf.keras.layers.MaxPooling1D(pool_size=4),\n",
        "    tf.keras.layers.LSTM(64),\n",
        "    tf.keras.layers.Dense(1, activation='sigmoid')\n",
        "])\n",
        "model.compile(loss='binary_crossentropy',optimizer='adam',metrics=['accuracy'])\n",
        "model.summary()\n",
        "\n",
        "num_epochs = 50\n",
        "\n",
        "training_padded = np.array(training_sequences)\n",
        "training_labels = np.array(training_labels)\n",
        "testing_padded = np.array(test_sequences)\n",
        "testing_labels = np.array(test_labels)\n",
        "\n",
        "history = model.fit(training_padded, training_labels, epochs=num_epochs, validation_data=(testing_padded, testing_labels), verbose=2)\n",
        "\n",
        "print(\"Training Complete\")"
      ],
      "execution_count": 9,
      "outputs": [
        {
          "output_type": "stream",
          "text": [
            "Model: \"sequential\"\n",
            "_________________________________________________________________\n",
            "Layer (type)                 Output Shape              Param #   \n",
            "=================================================================\n",
            "embedding (Embedding)        (None, 16, 100)           13916400  \n",
            "_________________________________________________________________\n",
            "dropout (Dropout)            (None, 16, 100)           0         \n",
            "_________________________________________________________________\n",
            "conv1d (Conv1D)              (None, 12, 64)            32064     \n",
            "_________________________________________________________________\n",
            "max_pooling1d (MaxPooling1D) (None, 3, 64)             0         \n",
            "_________________________________________________________________\n",
            "lstm (LSTM)                  (None, 64)                33024     \n",
            "_________________________________________________________________\n",
            "dense (Dense)                (None, 1)                 65        \n",
            "=================================================================\n",
            "Total params: 13,981,553\n",
            "Trainable params: 65,153\n",
            "Non-trainable params: 13,916,400\n",
            "_________________________________________________________________\n",
            "Epoch 1/50\n",
            "4500/4500 - 17s - loss: 0.5664 - accuracy: 0.7005 - val_loss: 0.5262 - val_accuracy: 0.7330\n",
            "Epoch 2/50\n",
            "4500/4500 - 16s - loss: 0.5282 - accuracy: 0.7311 - val_loss: 0.5133 - val_accuracy: 0.7433\n",
            "Epoch 3/50\n",
            "4500/4500 - 16s - loss: 0.5117 - accuracy: 0.7435 - val_loss: 0.5039 - val_accuracy: 0.7510\n",
            "Epoch 4/50\n",
            "4500/4500 - 16s - loss: 0.5001 - accuracy: 0.7520 - val_loss: 0.5102 - val_accuracy: 0.7487\n",
            "Epoch 5/50\n",
            "4500/4500 - 17s - loss: 0.4916 - accuracy: 0.7582 - val_loss: 0.4969 - val_accuracy: 0.7565\n",
            "Epoch 6/50\n",
            "4500/4500 - 16s - loss: 0.4843 - accuracy: 0.7617 - val_loss: 0.5060 - val_accuracy: 0.7483\n",
            "Epoch 7/50\n",
            "4500/4500 - 16s - loss: 0.4789 - accuracy: 0.7658 - val_loss: 0.5004 - val_accuracy: 0.7551\n",
            "Epoch 8/50\n",
            "4500/4500 - 16s - loss: 0.4727 - accuracy: 0.7692 - val_loss: 0.5048 - val_accuracy: 0.7546\n",
            "Epoch 9/50\n",
            "4500/4500 - 16s - loss: 0.4689 - accuracy: 0.7712 - val_loss: 0.4956 - val_accuracy: 0.7536\n",
            "Epoch 10/50\n",
            "4500/4500 - 16s - loss: 0.4654 - accuracy: 0.7739 - val_loss: 0.4960 - val_accuracy: 0.7579\n",
            "Epoch 11/50\n",
            "4500/4500 - 16s - loss: 0.4626 - accuracy: 0.7746 - val_loss: 0.4960 - val_accuracy: 0.7577\n",
            "Epoch 12/50\n",
            "4500/4500 - 16s - loss: 0.4591 - accuracy: 0.7768 - val_loss: 0.4970 - val_accuracy: 0.7588\n",
            "Epoch 13/50\n",
            "4500/4500 - 16s - loss: 0.4569 - accuracy: 0.7791 - val_loss: 0.5047 - val_accuracy: 0.7579\n",
            "Epoch 14/50\n",
            "4500/4500 - 16s - loss: 0.4551 - accuracy: 0.7797 - val_loss: 0.5031 - val_accuracy: 0.7569\n",
            "Epoch 15/50\n",
            "4500/4500 - 16s - loss: 0.4535 - accuracy: 0.7815 - val_loss: 0.5065 - val_accuracy: 0.7543\n",
            "Epoch 16/50\n",
            "4500/4500 - 16s - loss: 0.4503 - accuracy: 0.7823 - val_loss: 0.5060 - val_accuracy: 0.7581\n",
            "Epoch 17/50\n",
            "4500/4500 - 16s - loss: 0.4486 - accuracy: 0.7835 - val_loss: 0.5092 - val_accuracy: 0.7533\n",
            "Epoch 18/50\n",
            "4500/4500 - 16s - loss: 0.4460 - accuracy: 0.7846 - val_loss: 0.5082 - val_accuracy: 0.7534\n",
            "Epoch 19/50\n",
            "4500/4500 - 16s - loss: 0.4456 - accuracy: 0.7863 - val_loss: 0.5051 - val_accuracy: 0.7529\n",
            "Epoch 20/50\n",
            "4500/4500 - 16s - loss: 0.4454 - accuracy: 0.7864 - val_loss: 0.5103 - val_accuracy: 0.7521\n",
            "Epoch 21/50\n",
            "4500/4500 - 17s - loss: 0.4446 - accuracy: 0.7873 - val_loss: 0.5070 - val_accuracy: 0.7553\n",
            "Epoch 22/50\n",
            "4500/4500 - 16s - loss: 0.4423 - accuracy: 0.7884 - val_loss: 0.5156 - val_accuracy: 0.7524\n",
            "Epoch 23/50\n",
            "4500/4500 - 16s - loss: 0.4413 - accuracy: 0.7874 - val_loss: 0.5140 - val_accuracy: 0.7536\n",
            "Epoch 24/50\n",
            "4500/4500 - 16s - loss: 0.4402 - accuracy: 0.7902 - val_loss: 0.5064 - val_accuracy: 0.7548\n",
            "Epoch 25/50\n",
            "4500/4500 - 16s - loss: 0.4395 - accuracy: 0.7890 - val_loss: 0.5116 - val_accuracy: 0.7514\n",
            "Epoch 26/50\n",
            "4500/4500 - 16s - loss: 0.4388 - accuracy: 0.7903 - val_loss: 0.5124 - val_accuracy: 0.7523\n",
            "Epoch 27/50\n",
            "4500/4500 - 16s - loss: 0.4375 - accuracy: 0.7907 - val_loss: 0.5182 - val_accuracy: 0.7521\n",
            "Epoch 28/50\n",
            "4500/4500 - 16s - loss: 0.4389 - accuracy: 0.7901 - val_loss: 0.5152 - val_accuracy: 0.7561\n",
            "Epoch 29/50\n",
            "4500/4500 - 17s - loss: 0.4351 - accuracy: 0.7921 - val_loss: 0.5184 - val_accuracy: 0.7525\n",
            "Epoch 30/50\n",
            "4500/4500 - 16s - loss: 0.4355 - accuracy: 0.7917 - val_loss: 0.5214 - val_accuracy: 0.7497\n",
            "Epoch 31/50\n",
            "4500/4500 - 16s - loss: 0.4375 - accuracy: 0.7900 - val_loss: 0.5141 - val_accuracy: 0.7519\n",
            "Epoch 32/50\n",
            "4500/4500 - 16s - loss: 0.4346 - accuracy: 0.7922 - val_loss: 0.5149 - val_accuracy: 0.7513\n",
            "Epoch 33/50\n",
            "4500/4500 - 16s - loss: 0.4350 - accuracy: 0.7928 - val_loss: 0.5211 - val_accuracy: 0.7544\n",
            "Epoch 34/50\n",
            "4500/4500 - 16s - loss: 0.4348 - accuracy: 0.7922 - val_loss: 0.5173 - val_accuracy: 0.7533\n",
            "Epoch 35/50\n",
            "4500/4500 - 16s - loss: 0.4322 - accuracy: 0.7950 - val_loss: 0.5158 - val_accuracy: 0.7539\n",
            "Epoch 36/50\n",
            "4500/4500 - 16s - loss: 0.4330 - accuracy: 0.7928 - val_loss: 0.5198 - val_accuracy: 0.7507\n",
            "Epoch 37/50\n",
            "4500/4500 - 16s - loss: 0.4341 - accuracy: 0.7933 - val_loss: 0.5185 - val_accuracy: 0.7534\n",
            "Epoch 38/50\n",
            "4500/4500 - 16s - loss: 0.4324 - accuracy: 0.7934 - val_loss: 0.5228 - val_accuracy: 0.7502\n",
            "Epoch 39/50\n",
            "4500/4500 - 16s - loss: 0.4319 - accuracy: 0.7937 - val_loss: 0.5175 - val_accuracy: 0.7491\n",
            "Epoch 40/50\n",
            "4500/4500 - 17s - loss: 0.4309 - accuracy: 0.7953 - val_loss: 0.5258 - val_accuracy: 0.7477\n",
            "Epoch 41/50\n",
            "4500/4500 - 16s - loss: 0.4307 - accuracy: 0.7943 - val_loss: 0.5219 - val_accuracy: 0.7496\n",
            "Epoch 42/50\n",
            "4500/4500 - 16s - loss: 0.4303 - accuracy: 0.7958 - val_loss: 0.5253 - val_accuracy: 0.7508\n",
            "Epoch 43/50\n",
            "4500/4500 - 16s - loss: 0.4308 - accuracy: 0.7945 - val_loss: 0.5205 - val_accuracy: 0.7513\n",
            "Epoch 44/50\n",
            "4500/4500 - 16s - loss: 0.4305 - accuracy: 0.7955 - val_loss: 0.5215 - val_accuracy: 0.7523\n",
            "Epoch 45/50\n",
            "4500/4500 - 16s - loss: 0.4315 - accuracy: 0.7947 - val_loss: 0.5225 - val_accuracy: 0.7535\n",
            "Epoch 46/50\n",
            "4500/4500 - 16s - loss: 0.4287 - accuracy: 0.7961 - val_loss: 0.5179 - val_accuracy: 0.7529\n",
            "Epoch 47/50\n",
            "4500/4500 - 16s - loss: 0.4295 - accuracy: 0.7950 - val_loss: 0.5165 - val_accuracy: 0.7506\n",
            "Epoch 48/50\n",
            "4500/4500 - 16s - loss: 0.4289 - accuracy: 0.7962 - val_loss: 0.5244 - val_accuracy: 0.7508\n",
            "Epoch 49/50\n",
            "4500/4500 - 16s - loss: 0.4291 - accuracy: 0.7955 - val_loss: 0.5225 - val_accuracy: 0.7485\n",
            "Epoch 50/50\n",
            "4500/4500 - 16s - loss: 0.4284 - accuracy: 0.7971 - val_loss: 0.5227 - val_accuracy: 0.7508\n",
            "Training Complete\n"
          ],
          "name": "stdout"
        }
      ]
    },
    {
      "cell_type": "code",
      "metadata": {
        "colab_type": "code",
        "id": "qxju4ItJKO8F",
        "colab": {
          "base_uri": "https://localhost:8080/",
          "height": 608
        },
        "outputId": "8e8beadb-b08b-4370-edd8-67838ea0241a"
      },
      "source": [
        "import matplotlib.image  as mpimg\n",
        "import matplotlib.pyplot as plt\n",
        "\n",
        "#-----------------------------------------------------------\n",
        "# Retrieve a list of list results on training and test data\n",
        "# sets for each training epoch\n",
        "#-----------------------------------------------------------\n",
        "acc=history.history['accuracy']\n",
        "val_acc=history.history['val_accuracy']\n",
        "loss=history.history['loss']\n",
        "val_loss=history.history['val_loss']\n",
        "\n",
        "epochs=range(len(acc)) # Get number of epochs\n",
        "\n",
        "#------------------------------------------------\n",
        "# Plot training and validation accuracy per epoch\n",
        "#------------------------------------------------\n",
        "plt.plot(epochs, acc, 'r')\n",
        "plt.plot(epochs, val_acc, 'b')\n",
        "plt.title('Training and validation accuracy')\n",
        "plt.xlabel(\"Epochs\")\n",
        "plt.ylabel(\"Accuracy\")\n",
        "plt.legend([\"Accuracy\", \"Validation Accuracy\"])\n",
        "\n",
        "plt.figure()\n",
        "\n",
        "#------------------------------------------------\n",
        "# Plot training and validation loss per epoch\n",
        "#------------------------------------------------\n",
        "plt.plot(epochs, loss, 'r')\n",
        "plt.plot(epochs, val_loss, 'b')\n",
        "plt.title('Training and validation loss')\n",
        "plt.xlabel(\"Epochs\")\n",
        "plt.ylabel(\"Loss\")\n",
        "plt.legend([\"Loss\", \"Validation Loss\"])\n",
        "\n",
        "plt.figure()\n",
        "\n",
        "\n",
        "# Expected Output\n",
        "# A chart where the validation loss does not increase sharply!"
      ],
      "execution_count": 10,
      "outputs": [
        {
          "output_type": "execute_result",
          "data": {
            "text/plain": [
              "<Figure size 432x288 with 0 Axes>"
            ]
          },
          "metadata": {
            "tags": []
          },
          "execution_count": 10
        },
        {
          "output_type": "display_data",
          "data": {
            "image/png": "[encoded data removed]",
            "text/plain": [
              "<Figure size 432x288 with 1 Axes>"
            ]
          },
          "metadata": {
            "tags": [],
            "needs_background": "light"
          }
        },
        {
          "output_type": "display_data",
          "data": {
            "image/png": "[encoded data removed]",
            "text/plain": [
              "<Figure size 432x288 with 1 Axes>"
            ]
          },
          "metadata": {
            "tags": [],
            "needs_background": "light"
          }
        },
        {
          "output_type": "display_data",
          "data": {
            "text/plain": [
              "<Figure size 432x288 with 0 Axes>"
            ]
          },
          "metadata": {
            "tags": []
          }
        }
      ]
    }
  ]
}