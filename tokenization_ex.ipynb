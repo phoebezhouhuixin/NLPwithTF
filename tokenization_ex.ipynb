{
 "cells": [
  {
   "cell_type": "code",
   "execution_count": 1,
   "metadata": {},
   "outputs": [],
   "source": [
    "import tensorflow as tensorflow\n",
    "from tensorflow.keras.preprocessing.text import Tokenizer\n",
    "from tensorflow.keras.preprocessing.sequence import pad_sequences\n",
    "import json"
   ]
  },
  {
   "cell_type": "code",
   "execution_count": 10,
   "metadata": {
    "tags": []
   },
   "outputs": [
    {
     "output_type": "stream",
     "name": "stdout",
     "text": "<class 'dict'>\nis_sarcastic\nheadline\narticle_link\n"
    }
   ],
   "source": [
    "datastore = []\n",
    "with open(\"sarcasm.json\", \"r\") as f:\n",
    "    for line in f:\n",
    "        datastore.append(json.loads(line)) # each line is one json object {}\n",
    "print(type(datastore[0]))\n",
    "for key in datastore[0].keys(): \n",
    "    print(key)"
   ]
  },
  {
   "cell_type": "code",
   "execution_count": 13,
   "metadata": {
    "tags": []
   },
   "outputs": [],
   "source": [
    "labels = []\n",
    "headlines = []\n",
    "urls = []\n",
    "for item in datastore:\n",
    "    labels.append(item[\"is_sarcastic\"])\n",
    "    headlines.append(item[\"headline\"])\n",
    "    urls.append(item[\"article_link\"])"
   ]
  },
  {
   "cell_type": "code",
   "execution_count": 14,
   "metadata": {},
   "outputs": [
    {
     "output_type": "execute_result",
     "data": {
      "text/plain": "(28619, 28619, 28619)"
     },
     "metadata": {},
     "execution_count": 14
    }
   ],
   "source": [
    "len(labels), len(headlines), len(urls)"
   ]
  },
  {
   "cell_type": "code",
   "execution_count": 16,
   "metadata": {
    "tags": [
     "outputPrepend"
    ]
   },
   "outputs": [
    {
     "output_type": "stream",
     "name": "stdout",
     "text": "oyne': 29820, \"'drugs\": 29821, 'habitats': 29822, \"'living\": 29823, \"adventure'\": 29824, 'entanglements': 29825, 'shakers': 29826, 'heists': 29827, 'convene': 29828, 'premise': 29829, 'herpetologists': 29830, 'becker': 29831, 'instincts': 29832, 'activate': 29833, \"'guernica'\": 29834, 'visage': 29835, 'llorona': 29836, 'unfiltered': 29837, 'bookcase': 29838, \"'employees\": 29839, \"hands'\": 29840, 'stapler': 29841, 'staplers': 29842, 'bernhardt': 29843, \"yellowstone's\": 29844, \"flamin'\": 29845, 'lime': 29846, 'ulcerative': 29847, 'colitis': 29848, 'evident': 29849, '594': 29850, \"mankind'\": 29851, 'subsidize': 29852, 'enigmatic': 29853, 'josef': 29854, 'koudelka': 29855, 'rapture': 29856, 'depressive': 29857, 'contents': 29858, 'myopia': 29859, 'optometrist': 29860, 'modi': 29861, 'wiretap': 29862, 'appreciably': 29863, 'monae': 29864, \"'none\": 29865, 'jowl': 29866, 'snoring': 29867, 'slit': 29868, \"'good'\": 29869, 'condiments': 29870, 'decomposition': 29871, 'icelandic': 29872, 'whitewashing': 29873, 'beavan': 29874, 'insanely': 29875, 'poach': 29876, 'calves': 29877, 'canadians': 29878, 'favorability': 29879, 'sails': 29880, 'arlen': 29881, 'specter': 29882, 'affiliation': 29883, 'seductive': 29884, 'coretta': 29885, 'morphs': 29886, 'hairy': 29887, 'aiming': 29888, \"scheme'\": 29889, 'alibi': 29890, \"'loves\": 29891, \"bodies'\": 29892, 'tickled': 29893, 'nissan': 29894, 'ts': 29895, 'depositions': 29896, 'exaggerate': 29897, 'petted': 29898, 'farallon': 29899, 'usfws': 29900, \"conservation's\": 29901, 'commodore': 29902, 'heating': 29903, \"carter's\": 29904, \"peanuts'\": 29905, 'bunsen': 29906, 'burners': 29907, 'spawns': 29908, 'devastate': 29909, 'pleasantries': 29910, 'zoe': 29911, 'saldana': 29912, \"scrubs'\": 29913, \"battle'\": 29914, 'scarily': 29915, 'ultimately': 29916, \"'want\": 29917, 'overgrown': 29918, 'deodorant': 29919, 'sighting': 29920, 'gazing': 29921, \"bernie's\": 29922, 'thematically': 29923, 'rapists': 29924, \"'comey\": 29925, \"homey'\": 29926, \"bloods'\": 29927, \"'outlander'\": 29928, 'mckinney': 29929, 'intersecting': 29930, 'interdisciplinary': 29931, 'hpps': 29932, 'abso': 29933, 'moochly': 29934, \"'snl\": 29935, 'annis': 29936, 'merron': 29937, 'operators': 29938, 'porcupine': 29939, 'corona': 29940, 'periodically': 29941, 'dubs': 29942, \"hypocrisy'\": 29943, 'golfing': 29944, 'distributing': 29945, 'malnourished': 29946, 'supervised': 29947, 'pantene': 29948, \"rules'\": 29949, 'mounted': 29950, '1964': 29951, 'oppressing': 29952, 'opposed': 29953, \"'stealing\": 29954, \"cancer'\": 29955, 'disposing': 29956, \"turmoil'\": 29957, 'nicu': 29958, \"coaster'\": 29959, 'triangular': 29960, 'acute': 29961, 'sneakier': 29962, 'schnauzers': 29963, 'scrubbing': 29964, \"'heirs\": 29965, \"inheritance'\": 29966, 'alig': 29967, 'catsuits': 29968, 'printing': 29969, 'rosaries': 29970, 'nair': 29971, 'incendiary': 29972, \"qaeda's\": 29973, \"unhinged'\": 29974, \"dinosaur'\": 29975, 'loners': 29976, 'deportations': 29977, 'backward': 29978, 'unencumbered': 29979, 'resided': 29980, 'fumbles': 29981, 'inanimate': 29982, \"'major\": 29983, \"speech'\": 29984, 'inspect': 29985, 'piled': 29986, 'meditating': 29987, 'retake': 29988, 'nimrud': 29989, \"alabama'\": 29990, 'worshipping': 29991, 'hannitys': 29992, 'dislikes': 29993, 'objection': 29994, 'belting': 29995, 'spatter': 29996, 'playtex': 29997, 'dissolving': 29998, 'uncooperative': 29999, \"'common\": 30000, 'beckinsale': 30001, 'glenbrook': 30002, 'rumble': 30003, 'wrestletalk': 30004, \"burns'\": 30005, \"filmmaker's\": 30006, 'koenig': 30007, \"entenmann's\": 30008, \"bale's\": 30009, 'bestival': 30010, 'supermarkets': 30011, 'satin': 30012, 'blotting': 30013, 'olin': 30014, 'dirtier': 30015, 'preacher': 30016, 'anjem': 30017, 'choudary': 30018, 'g7': 30019, \"'g8\": 30020, \"getaway'\": 30021, 'menswear': 30022, 'imminent': 30023, 'mirjana': 30024, 'lucic': 30025, 'baroni': 30026, 'boast': 30027, \"'juno'\": 30028, 'transplants': 30029, 'influencers': 30030, 'constitutions': 30031, 'dusk': 30032, 'nights': 30033, 'betrayed': 30034, 'simpleton': 30035, 'outweighed': 30036, 'vivid': 30037, \"mosul's\": 30038, 'doubters': 30039, 'feasibility': 30040, 'deserts': 30041, 'pressuring': 30042, 'kofi': 30043, 'annan': 30044, 'mumbling': 30045, 'bedsore': 30046, '155th': 30047, 'kristin': 30048, \"davis'\": 30049, \"priest'\": 30050, \"'rising'\": 30051, \"acosta's\": 30052, 'assertion': 30053, 'achievment': 30054, 'kidnappings': 30055, \"we'd\": 30056, \"'col\": 30057, \"miranda's\": 30058, 'labeouf': 30059, 'walletless': 30060, 'bedpost': 30061, \"'growing\": 30062, 'torment': 30063, 'slinking': 30064, \"'deadpool\": 30065, \"brolin's\": 30066, \"'but\": 30067, 'gingerbread': 30068, 'sontag': 30069, 'intolerance': 30070, \"'bed\": 30071, \"england'\": 30072, \"'secret'\": 30073, 'sired': 30074, 'barnacle': 30075, 'discharge': 30076, 'ionceoverheard': 30077, 'gladiator': 30078, \"'turbo'\": 30079, 'bb': 30080, 'flings': 30081, 'forbearance': 30082, 'combatting': 30083, 'disorderly': 30084, 'intoxication': 30085, \"'chewbacca\": 30086, 'wrecks': 30087, 'cayman': 30088, 'jayne': 30089, 'krentz': 30090, \"marry'\": 30091, \"carrier's\": 30092, 'saltless': 30093, 'ulterior': 30094, 'vying': 30095, \"'inner\": 30096, \"monitor'\": 30097, 'masterwork': 30098, \"leaf'\": 30099, 'indictments': 30100, 'eli': 30101, 'millionsmarchsf': 30102, 'voltage': 30103, 'electrified': 30104, 'trumpland': 30105, 'victories': 30106, 'friendshipgoals': 30107, \"says'\": 30108, \"t's\": 30109, 'storylines': 30110, 'crete': 30111, \"'confession'\": 30112, 'cabins': 30113, 'sightings': 30114, 'psylandorian': 30115, 'bookworm': 30116, 'shareholdaz': 30117, \"ghostwriters'\": 30118, 'buffs': 30119, 'blobs': 30120, 'satyajit': 30121, \"ray's\": 30122, \"holiday's\": 30123, 'horsepower': 30124, 'bathtub': 30125, '984': 30126, '828': 30127, 'cutoff': 30128, 'dozing': 30129, 'gladys': 30130, \"'engaged'\": 30131, 'embed': 30132, 'principle': 30133, \"natural'\": 30134, \"doj's\": 30135, 'renewables': 30136, \"'gaza'\": 30137, \"earnest's\": 30138, 'wh': 30139, 'bourdain': 30140, '2nd': 30141, 'breathalyzer': 30142, 'leviathan': 30143, 'awoken': 30144, 'sonar': 30145, 'seatbacks': 30146, 'pleases': 30147, 'hentai': 30148, \"mingle'\": 30149, 'starnes': 30150, \"'official\": 30151, 'subvert': 30152, 'sketched': 30153, \"'pride\": 30154, \"prejudice'\": 30155, \"critic's\": 30156, 'garnering': 30157, 'urkel': 30158, 'foreheads': 30159, 'rappers': 30160, 'broadcasting': 30161, 'waithe': 30162, 'shriver': 30163, 'fark': 30164, 'lebowski': 30165, 'accompanying': 30166, 'presumes': 30167, 'gulag': 30168, 'siberia': 30169, 'attire': 30170, 'ogre': 30171, \"everything's\": 30172, 'imaginable': 30173, 'mechanism': 30174, 'frills': 30175, 'pomp': 30176, 'chillingly': 30177, 'reappears': 30178, \"money'\": 30179, 'begun': 30180, \"'tort\": 30181, \"reform'\": 30182, 'hasty': 30183, 'overthink': 30184, 'edwards2016': 30185, 'launchers': 30186, 'broderick': 30187, 'wonderfully': 30188, \"'curious'\": 30189, 'harrington': 30190, \"wolfman'\": 30191, '324': 30192, 'snatching': 30193, 'diphtheria': 30194, 'stumble': 30195, \"'shylock\": 30196, \"shyster'\": 30197, 'stereotypical': 30198, \"pizzeria's\": 30199, 'vacuumed': 30200, 'couscous': 30201, 'retail': 30202, \"'ferris\": 30203, \"bueller'\": 30204, 'litterer': 30205, 'expedited': 30206, 'interrogations': 30207, 'epipen': 30208, 'flirts': 30209, \"'hut\": 30210, \"swag'\": 30211, 'mulvaney': 30212, \"tivo'\": 30213, \"'rick'\": 30214, 'rainstorms': 30215, 'pummel': 30216, 'assemble': 30217, 'unqualified': 30218, 'clues': 30219, 'shitshow': 30220, 'weekends': 30221, 'windowsill': 30222, 'dial': 30223, \"shirt'\": 30224, \"illusion'\": 30225, 'millenial': 30226, \"'mapplethorpe'\": 30227, \"lay's\": 30228, 'immunization': 30229, \"jarrel's\": 30230, '161': 30231, 'extroverts': 30232, 'inoperable': 30233, '259': 30234, 'albinism': 30235, 'zhang': 30236, 'ziyi': 30237, \"'transformers'\": 30238, 'nullifying': 30239, 'footlong': 30240, 'teriyaki': 30241, 'convulsing': 30242, 'mailman': 30243, 'unreasonable': 30244, \"k'\": 30245, \"'artisanal'\": 30246, 'spittle': 30247, 'sexton': 30248, 'stokes': 30249, 'deutsch': 30250, \"'croak'\": 30251, 'persecution': 30252, 'blur': 30253, 'reassigned': 30254, 'underpublicized': 30255, 'intestinal': 30256, 'mole': 30257, 'mallets': 30258, \"toaster's\": 30259, 'sprinkles': 30260, 'yarn': 30261, 'maxim': 30262, 'skimmed': 30263, 'dent': 30264, 'tuxedoed': 30265, \"feingold's\": 30266, \"'within\": 30267, 'contending': 30268, \"'waitress'\": 30269, 'cameos': 30270, 'fencing': 30271, \"nsync's\": 30272, 'grilling': 30273, 'soundandfury': 30274, 'wordpress': 30275, '200k': 30276, \"'fringe'\": 30277, 'drift': 30278, 'worrisome': 30279, 'usage': 30280, \"paper's\": 30281, 'incessant': 30282, 'oversharing': 30283, \"'vagina'\": 30284, \"responsible'\": 30285, 'mademoiselle': 30286, 'flatten': 30287, 'tummy': 30288, 'demonstration': 30289, 'rendezvous': 30290, \"tell'\": 30291, 'als': 30292, \"scandal's\": 30293, 'zell': 30294, 'kinder': 30295, 'marley': 30296, \"'liked'\": 30297, 'mayim': 30298, 'bialik': 30299, 'kellen': 30300, 'segregation': 30301, 'chests': 30302, \"som's\": 30303, 'horowitz': 30304, 'biv': 30305, 'devoe': 30306, \"'backlash'\": 30307, \"'poison'\": 30308, \"'grabbies'\": 30309, 'jameela': 30310, 'jamil': 30311, 'dissolve': 30312, 'insinuated': 30313, 'digger': 30314, \"'kings\": 30315, \"'southpaw'\": 30316, 'soundtrack': 30317, 'renegotiation': 30318, 'wiser': 30319, 'poring': 30320, \"'piping\": 30321, 'shopkeeper': 30322, 'soured': 30323, 'asterisk': 30324, \"'fuck'\": 30325, 'memorize': 30326, 'maga': 30327, 'bugaboo': 30328, \"stroller's\": 30329, \"'unrealistic'\": 30330, \"francis's\": 30331, 'merck': 30332, 'rewarding': 30333, \"nobody'\": 30334, 'philosophical': 30335, '75th': 30336, 'emeritus': 30337, \"weekend's\": 30338, 'canonizations': 30339, 'abolishing': 30340, 'patting': 30341, 'nikolai': 30342, 'rimsky': 30343, 'korsakov': 30344, 'inventive': 30345, 'orchestrator': 30346, 'caitlin': 30347, 'enclosures': 30348, 'candies': 30349, 'miscellaneous': 30350, 'offend': 30351, 'tingling': 30352, 'asmr': 30353, 'ropes': 30354, \"advertiser's\": 30355, 'espresso': 30356, 'middleagedschmovies': 30357, 'accessibility': 30358, 'euphoric': 30359, \"enemy's\": 30360, 'postcard': 30361, 'meenakshi': 30362, 'amman': 30363, \"'obey'\": 30364, 'retool': 30365, \"meaning'\": 30366, 'tasteless': 30367, 'restraint': 30368, 'outbreeding': 30369, 'intelligentsia': 30370, 'hillshire': 30371, 'bratwurst': 30372, 'verified': 30373, 'outnumbered': 30374, 'annihilating': 30375, 'frocked': 30376, 'underrated': 30377, 'moles': 30378, 'mutilating': 30379, 'deadlines': 30380, \"plaza's\": 30381, 'strzok': 30382, 'summoned': 30383, 'pissy': 30384, \"shithead'\": 30385, 'gaby': 30386, 'hoffmann': 30387, 'wasters': 30388, \"troublemakers'\": 30389, 'noam': 30390, 'chomsky': 30391, 'panera': 30392, 'plausible': 30393, 'deniability': 30394, 'swedes': 30395, \"trains'\": 30396, 'penetration': 30397, \"presidential'\": 30398, 'preamble': 30399, 'derangement': 30400, 'chillax': 30401, 'myrtle': 30402, 'ancestral': 30403, 'prowling': 30404, 'mushroom': 30405, 'enda': 30406, 'gopers': 30407, 'coogler': 30408, 'wakanda': 30409, 'mcmaster': 30410, 'alignment': 30411, '071': 30412, 'variables': 30413, 'sunblock': 30414, 'botox': 30415, \"'morning\": 30416, 'instinct': 30417, 'repairing': 30418, \"'cool\": 30419, \"geographic'\": 30420, 'ideological': 30421, 'rewrites': 30422, \"club'\": 30423, 'stressfest': 30424, 'krypton': 30425, 'assignment': 30426, 'peru': 30427, 'mirren': 30428, 'infatuated': 30429, \"'have\": 30430, 'oversimplifies': 30431, 'insecticide': 30432, 'sufficiently': 30433, 'inclined': 30434, 'sweepstakes': 30435, 'megadonor': 30436, 'transaction': 30437, 'exaggerated': 30438, 'dwelling': 30439, 'klutz': 30440, 'bündchen': 30441, 'italia': 30442, 'panoramic': 30443, 'saunders': 30444, 'phalanx': 30445, 'hungrily': 30446, 'interface': 30447, \"'silence'\": 30448, 'ignatians': 30449, 'penetrate': 30450, 'databases': 30451, \"'colbert'\": 30452, 'droege': 30453, 'sloshed': 30454, 'albarn': 30455, 'denmark': 30456, 'freshmen': 30457, 'lynchings': 30458, 'safran': 30459, 'foer': 30460, 'bidder': 30461, 'zenith': 30462, 'gamespace': 30463, 'dopec': 30464, 'spicey': 30465, 'mockingbird': 30466, 'sla': 30467, 'redd': 30468, 'rediscovers': 30469, 'ethicists': 30470, 'farage': 30471, 'willam': 30472, 'grind': 30473, 'hallucinates': 30474, \"'humiliated'\": 30475, \"'seductive'\": 30476, 'stragglers': 30477, 'stinging': 30478, 'fences': 30479, 'padres': 30480, \"'consistent'\": 30481, 'washes': 30482, 'outlining': 30483, 'earthquakes': 30484, 'vacationer': 30485, 'omniscient': 30486, 'yngwie': 30487, 'malmsteen': 30488, \"'fucking'\": 30489, 'giuliana': 30490, 'rancic': 30491, \"o'connell\": 30492, \"'dearly\": 30493, \"beloved'\": 30494, 'ventriloquist': 30495, 'azealia': 30496, 'intruder': 30497, 'unshakeable': 30498, 'bassnectar': 30499, \"'unlimited'\": 30500, 'geniuses': 30501, \"'formation'\": 30502, 'disinvests': 30503, 'majors': 30504, \"truther'\": 30505, \"lawyer's\": 30506, 'preschoolers': 30507, 'scaled': 30508, 'shoveling': 30509, 'outperforming': 30510, 'endlessly': 30511, 'storing': 30512, 'leotard': 30513, 'choreographing': 30514, 'multidisciplinary': 30515, 'rightful': 30516, 'udc': 30517, \"'clusters'\": 30518, 'lifeblood': 30519, 'globetrotters': 30520, 'firecracker': 30521, 'puzo': 30522, 'mcgovern': 30523, 'perkins': 30524, 'caine': 30525, 'aiello': 30526, \"dern'\": 30527, 'slayings': 30528, 'shalhoub': 30529, \"'braindead'\": 30530, 'battering': 30531, 'ram': 30532, 'fivethirtyeight': 30533, 'silvers': 30534, 'aggregator': 30535, 'templeton': 30536, 'doubletree': 30537, \"dock'\": 30538, \"'capital\": 30539, 'mechanical': 30540, 'jumbo': 30541, \"'deep\": 30542, \"sleep'\": 30543, \"lauer's\": 30544, 'sanctioned': 30545, 'fervor': 30546, 'capitalists': 30547, 'connery': 30548, 'creepiest': 30549, \"service'\": 30550, 'maven': 30551, 'backgrounds': 30552, 'craggy': 30553, 'ogres': 30554, \"gaulle's\": 30555, 'landings': 30556, 'pompom': 30557, 'emile': 30558, 'hirsch': 30559, 'errant': 30560, 'keystroke': 30561, 'schieffer': 30562, 'apocalypto': 30563, 'itching': 30564, 'baio': 30565, \"'relentlessly\": 30566, 'tarot': 30567, 'khaled': 30568, \"'talking\": 30569, 'shinto': 30570, 'priestess': 30571, \"'hates\": 30572, \"taking'\": 30573, 'disputing': 30574, 'homepod': 30575, 'butcher': 30576, 'cutlet': 30577, 'referencing': 30578, 'utters': 30579, \"'craft\": 30580, 'munchos': 30581, 'disodium': 30582, 'guanylate': 30583, 'outlived': 30584, 'pinning': 30585, \"'caroline\": 30586, 'tankers': 30587, 'safire': 30588, 'whoppers': 30589, 'motivating': 30590, 'definitions': 30591, \"cartoonist's\": 30592, 'mcdreamy': 30593, 'overthrow': 30594, '¡que': 30595, 'vivan': 30596, 'casa': 30597, 'reconcile': 30598, 'comrie': 30599, \"'peasant\": 30600, \"'interview'\": 30601, 'theda': 30602, 'hammel': 30603, 'lyudska': 30604, 'podoba': 30605, 'sexualities': 30606, 'ee': 30607, 'ppm': 30608, 'co2': 30609, 'unrewarded': 30610, 'suarez': 30611, 'paz': 30612, 'airliners': 30613, 'salve': 30614, 'chaps': 30615, \"'sittin'\": 30616, \"'rub\": 30617, \"teenagers'\": 30618, 'liberian': 30619, 'dignitary': 30620, \"roscoe's\": 30621, \"n'\": 30622, '6m': 30623, \"'billie\": 30624, \"jean'\": 30625, \"xfl'\": 30626, 'genitalia': 30627, 'mockingjay': 30628, 'themeless': 30629, 'hooligans': 30630, 'shapewear': 30631, 'winked': 30632, \"'cautiously\": 30633, \"optimistic'\": 30634, 'deport': 30635, \"determined'\": 30636, 'hitchhiker': 30637, \"laborer's\": 30638, 'irregular': 30639, 'nemo': 30640, 'bucking': 30641, 'cascading': 30642, 'prolong': 30643, \"is'\": 30644, \"richer'\": 30645, \"cantor's\": 30646, \"'roots'\": 30647, 'allowable': 30648, 'amperage': 30649, \"detainees'\": 30650, 'testicles': 30651, \"'obamacare\": 30652, 'attractiveness': 30653, 'romanian': 30654, 'grift': 30655, \"mcveigh's\": 30656, 'cecil': 30657, \"lion's\": 30658, \"chair's\": 30659, 'edging': 30660, 'illegalize': 30661, 'proceeds': 30662, 'trumpacandy': 30663, 'gloriously': 30664, 'brainer': 30665, 'lookers': 30666, 'passers': 30667, 'vale': 30668, 'boothe': 30669, \"thones'\": 30670, 'adelanto': 30671, 'overthrowing': 30672, \"chixx'\": 30673, \"concepts'\": 30674, 'floodgates': 30675, 'tequila': 30676, 'divides': 30677, 'enforcing': 30678, 'mediaeval': 30679, 'fortress': 30680, 'monemvasia': 30681, 'faints': 30682, 'inspo': 30683, 'trivial': 30684, \"'letter\": 30685, 'rattling': 30686, 'counterproductive': 30687, 'redskins': 30688, \"'pumpkin\": 30689, \"spice'\": 30690, 'redstate': 30691, 'leon': 30692, 'compels': 30693, 'fined': 30694, 'cafés': 30695, 'cary': 30696, 'elwes': 30697, \"'dull\": 30698, 'biggie': 30699, \"cbs'\": 30700, \"colbert'\": 30701, 'felonies': 30702, 'mariachi': 30703, 'fattest': 30704, 'mangles': 30705, 'spangled': 30706, \"banner'\": 30707, 'doorstops': 30708, 'doorblocker': 30709, 'annulment': 30710, 'goper': 30711, 'broccoli': 30712, 'shrieks': 30713, 'duetting': 30714, \"'suddenly\": 30715, \"seymour'\": 30716, 'woodworking': 30717, '156': 30718, \"'kennedy\": 30719, \"curse'\": 30720, 'carhartt': 30721, 'thong': 30722, 'magnanimous': 30723, 'occupy': 30724, 'relishing': 30725, 'sinead': 30726, \"'safe\": 30727, 'schooling': 30728, \"favorite's\": 30729, 'herbie': 30730, 'anthropomorphologists': 30731, 'jenni': 30732, 'konner': 30733, 'hq': 30734, 'arkansans': 30735, 'rinkins': 30736, 'harsher': 30737, \"astronaut's\": 30738, \"'sweet'\": 30739, \"'whitey\": 30740, 'cushion': 30741, 'leverages': 30742, 'transmuting': 30743, 'verdugo': 30744, 'creatives': 30745, 'transvestite': 30746, 'dakotan': 30747, 'conned': 30748, 'quantitative': 30749, 'gail': 30750, 'saltz': 30751, \"warhol's\": 30752, \"'rigged'\": 30753, \"'trexit'\": 30754, 'sustenance': 30755, 'narrowing': 30756, 'mendes': 30757, 'feijoada': 30758, 'methushael': 30759, 'beget': 30760, 'lamech': 30761, 'petticoats': 30762, 'anteater': 30763, 'suicides': 30764, 'fitted': 30765, \"'we're\": 30766, 'lipnicki': 30767, 'spaceballs': 30768, \"'hold\": 30769, 'swinging': 30770, 'communicates': 30771, \"'forever\": 30772, 'continents': 30773, 'drifted': 30774, 'barbed': 30775, 'calculus': 30776, \"'kool\": 30777, \"watermelons'\": 30778, 'pta': 30779, \"'trap\": 30780, \"queen'\": 30781, 'austen': 30782, 'puig': 30783, \"island's\": 30784, 'quadruples': 30785, 'canoeing': 30786, 'deductible': 30787, 'felipe': 30788, 'smacked': 30789, 'distributor': 30790, 'dogfights': 30791, 'whimpers': 30792, 'unchecked': 30793, 'industrialization': 30794, 'neanderthal': 30795, 'bloodlust': 30796, 'brushed': 30797, 'housed': 30798, \"'crazy\": 30799, 'fingering': 30800, 'canoes': 30801, \"ny's\": 30802, \"'underground\": 30803, \"railroad'\": 30804, 'flynt': 30805, 'alarms': 30806, \"jinping's\": 30807, 'presex': 30808, 'girders': 30809, \"'geekier'\": 30810, 'rebuilding': 30811, 'dominos': 30812, 'manned': 30813, 'koran': 30814, \"'fry\": 30815, \"q'\": 30816, 'butternut': 30817, 'majesty': 30818, 'walkers': 30819, 'krieger': 30820, 'pushier': 30821, \"gavin's\": 30822, \"'teen'\": 30823, 'll': 30824, 'rollerball': 30825, 'slime': 30826, 'cocooned': 30827, 'ooze': 30828, 'excludes': 30829, \"liberty's\": 30830, 'chaka': 30831, \"sinatra's\": 30832, 'appointing': 30833, \"'czar'\": 30834, 'slowing': 30835, 'meara': 30836, 'maitre': 30837, \"d'\": 30838, 'everlast': 30839, \"ref's\": 30840, 'clarksburg': 30841, 'blotter': 30842, 'raiser': 30843, 'baftas': 30844, 'fanciful': 30845, 'rentboys': 30846, 'rentboy': 30847, \"'quality'\": 30848, \"'gremlin\": 30849, \"'1989'\": 30850, \"consumer's\": 30851, 'rhinoceros': 30852, 'birkenstocks': 30853, 'surmise': 30854, 'heartache': 30855, 'tca': 30856, 'mulling': 30857, 'mercator': 30858, 'lovelorn': 30859, 'aches': 30860, \"newswoman's\": 30861, 'vibrant': 30862, \"bernanke's\": 30863, 'reassuring': 30864, \"'pacific\": 30865, \"rim'\": 30866, 'grooviest': 30867, \"'renewed\": 30868, \"remain'\": 30869, 'spectators': 30870, \"'entertainment\": 30871, 'redo': 30872, \"'sorority\": 30873, \"row'\": 30874, 'diagnosing': 30875, 'bluefish': 30876, 'saor': 30877, 'venetian': 30878, \"'inquiry'\": 30879, 'pokémon': 30880, \"'polack'\": 30881, \"antonio's\": 30882, 'rosh': 30883, 'hashasha': 30884, 'orbiting': 30885}\n"
    }
   ],
   "source": [
    "tokenizer = Tokenizer(oov_token=\"UNK\")\n",
    "tokenizer.fit_on_texts(headlines)\n",
    "print(tokenizer.word_index)"
   ]
  },
  {
   "cell_type": "code",
   "execution_count": 25,
   "metadata": {
    "tags": []
   },
   "outputs": [
    {
     "output_type": "stream",
     "name": "stdout",
     "text": "<class 'list'> [[16004, 355, 3167, 7474, 2644, 3, 661, 1119], [7475, 1775, 758, 3168, 47, 239, 11, 1844, 1048, 8, 1528, 2154, 1845], [863, 33, 11427, 262, 16005, 647, 1484]]\n"
    }
   ],
   "source": [
    "sequences = tokenizer.texts_to_sequences(headlines) # list of lists\n",
    "print(type(sequences), sequences[:3])"
   ]
  },
  {
   "cell_type": "code",
   "execution_count": 26,
   "metadata": {},
   "outputs": [
    {
     "output_type": "execute_result",
     "data": {
      "text/plain": "array([[16004,   355,  3167, ...,     0,     0,     0],\n       [ 7475,  1775,   758, ...,     0,     0,     0],\n       [  863,    33, 11427, ...,     0,     0,     0],\n       ...,\n       [    4,   100,   629, ...,     0,     0,     0],\n       [ 1870,  1313,  3317, ...,     0,     0,     0],\n       [  217,  3283,    21, ...,     0,     0,     0]], dtype=int32)"
     },
     "metadata": {},
     "execution_count": 26
    }
   ],
   "source": [
    "padded= pad_sequences(sequences, padding=\"post\")\n",
    "padded"
   ]
  },
  {
   "cell_type": "code",
   "execution_count": 27,
   "metadata": {},
   "outputs": [
    {
     "output_type": "execute_result",
     "data": {
      "text/plain": "(28619, 152)"
     },
     "metadata": {},
     "execution_count": 27
    }
   ],
   "source": [
    "padded.shape # that means the longest headline is 152 words"
   ]
  },
  {
   "cell_type": "code",
   "execution_count": null,
   "metadata": {},
   "outputs": [],
   "source": []
  },
  {
   "cell_type": "code",
   "execution_count": null,
   "metadata": {},
   "outputs": [],
   "source": []
  }
 ],
 "metadata": {
  "language_info": {
   "codemirror_mode": {
    "name": "ipython",
    "version": 3
   },
   "file_extension": ".py",
   "mimetype": "text/x-python",
   "name": "python",
   "nbconvert_exporter": "python",
   "pygments_lexer": "ipython3",
   "version": "3.7.6-final"
  },
  "orig_nbformat": 2,
  "kernelspec": {
   "name": "python3",
   "display_name": "Python 3"
  }
 },
 "nbformat": 4,
 "nbformat_minor": 2
}