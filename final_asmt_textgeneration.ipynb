{
  "nbformat": 4,
  "nbformat_minor": 0,
  "metadata": {
    "accelerator": "GPU",
    "colab": {
      "name": "final_asmt_textgeneration.ipynb",
      "provenance": [],
      "collapsed_sections": [],
      "include_colab_link": true
    },
    "kernelspec": {
      "display_name": "Python 3",
      "name": "python3"
    }
  },
  "cells": [
    {
      "cell_type": "markdown",
      "metadata": {
        "id": "view-in-github",
        "colab_type": "text"
      },
      "source": [
        "<a href=\"https://colab.research.google.com/github/phoebezhouhuixin/NLPwithTF/blob/master/final_asmt_textgeneration.ipynb\" target=\"_parent\"><img src=\"https://colab.research.google.com/assets/colab-badge.svg\" alt=\"Open In Colab\"/></a>"
      ]
    },
    {
      "cell_type": "code",
      "metadata": {
        "colab_type": "code",
        "id": "BOwsuGQQY9OL",
        "colab": {}
      },
      "source": [
        "import tensorflow as tf\n",
        "from tensorflow.keras.preprocessing.sequence import pad_sequences\n",
        "from tensorflow.keras.layers import Embedding, LSTM, Dense, Dropout, Bidirectional\n",
        "from tensorflow.keras.preprocessing.text import Tokenizer\n",
        "from tensorflow.keras.models import Sequential\n",
        "from tensorflow.keras.optimizers import Adam\n",
        "from tensorflow.keras.regularizers import l2\n",
        "from tensorflow.keras.callbacks import EarlyStopping, ModelCheckpoint\n",
        "from tensorflow.data import Dataset\n",
        "\n",
        "import csv\n",
        "import tensorflow.keras.utils as ku \n",
        "import numpy as np "
      ],
      "execution_count": 2,
      "outputs": []
    },
    {
      "cell_type": "code",
      "metadata": {
        "id": "vP3qIWFwYNYI",
        "colab_type": "code",
        "colab": {
          "base_uri": "https://localhost:8080/",
          "height": 313
        },
        "outputId": "e2779a4c-ea83-4882-80ff-5d5cfc29d2a4"
      },
      "source": [
        "# !wget --no-check-certificate \\\n",
        "#     https://storage.googleapis.com/laurencemoroney-blog.appspot.com/sonnets.txt \\\n",
        "#     -O /tmp/sonnets.txt\n",
        "# data = open('/tmp/sonnets.txt').read()\n",
        "# corpus = data.lower().split(\"\\n\")\n",
        "\n",
        "!wget --no-check-certificate \\\n",
        "    'https://docs.google.com/uc?export=download&id=1dA5SqSJMh1TBlqnHMX617DTZDiS2L8Hz' \\\n",
        "    -O /tmp/articles.csv"
      ],
      "execution_count": 3,
      "outputs": [
        {
          "output_type": "stream",
          "text": [
            "--2020-07-24 16:59:13--  https://docs.google.com/uc?export=download&id=1dA5SqSJMh1TBlqnHMX617DTZDiS2L8Hz\n",
            "Resolving docs.google.com (docs.google.com)... 74.125.195.101, 74.125.195.100, 74.125.195.113, ...\n",
            "Connecting to docs.google.com (docs.google.com)|74.125.195.101|:443... connected.\n",
            "HTTP request sent, awaiting response... 302 Moved Temporarily\n",
            "Location: https://doc-0c-bk-docs.googleusercontent.com/docs/securesc/ha0ro937gcuc7l7deffksulhg5h7mbp1/7vi3593vndnp0pu6eh9474aqnbk59os1/1595609925000/05656818724091255691/*/1dA5SqSJMh1TBlqnHMX617DTZDiS2L8Hz?e=download [following]\n",
            "Warning: wildcards not supported in HTTP.\n",
            "--2020-07-24 16:59:14--  https://doc-0c-bk-docs.googleusercontent.com/docs/securesc/ha0ro937gcuc7l7deffksulhg5h7mbp1/7vi3593vndnp0pu6eh9474aqnbk59os1/1595609925000/05656818724091255691/*/1dA5SqSJMh1TBlqnHMX617DTZDiS2L8Hz?e=download\n",
            "Resolving doc-0c-bk-docs.googleusercontent.com (doc-0c-bk-docs.googleusercontent.com)... 74.125.197.132, 2607:f8b0:400e:c03::84\n",
            "Connecting to doc-0c-bk-docs.googleusercontent.com (doc-0c-bk-docs.googleusercontent.com)|74.125.197.132|:443... connected.\n",
            "HTTP request sent, awaiting response... 200 OK\n",
            "Length: unspecified [text/csv]\n",
            "Saving to: ‘/tmp/articles.csv’\n",
            "\n",
            "/tmp/articles.csv       [ <=>                ]   4.84M  --.-KB/s    in 0.09s   \n",
            "\n",
            "2020-07-24 16:59:15 (53.7 MB/s) - ‘/tmp/articles.csv’ saved [5071129]\n",
            "\n"
          ],
          "name": "stdout"
        }
      ]
    },
    {
      "cell_type": "code",
      "metadata": {
        "id": "1q7-Tc4akNh0",
        "colab_type": "code",
        "colab": {
          "base_uri": "https://localhost:8080/",
          "height": 33
        },
        "outputId": "9fbdb0ef-211e-4f7f-acd1-a9e67d88dfe5"
      },
      "source": [
        "corpus = []\n",
        "with open(\"/tmp/articles.csv\", encoding=\"latin1\") as csv_file:\n",
        "    csv_reader = csv.reader(csv_file, delimiter=',', )\n",
        "    columns = next(csv_reader)\n",
        "    print(columns)\n",
        "\n",
        "    for row in csv_reader:\n",
        "        corpus.append(row[0])"
      ],
      "execution_count": 4,
      "outputs": [
        {
          "output_type": "stream",
          "text": [
            "['Article', 'Date', 'Heading', 'NewsType']\n"
          ],
          "name": "stdout"
        }
      ]
    },
    {
      "cell_type": "code",
      "metadata": {
        "id": "-P2_x1Upctu9",
        "colab_type": "code",
        "colab": {
          "base_uri": "https://localhost:8080/",
          "height": 86
        },
        "outputId": "f9b79006-4b90-4da9-92c0-b36e8e96c738"
      },
      "source": [
        "corpus[:2], len(corpus)"
      ],
      "execution_count": 7,
      "outputs": [
        {
          "output_type": "execute_result",
          "data": {
            "text/plain": [
              "(['KARACHI: The Sindh government has decided to bring down public transport fares by 7 per cent due to massive reduction in petroleum product prices by the federal government, Geo News reported.Sources said reduction in fares will be applicable on public transport, rickshaw, taxi and other means of traveling.Meanwhile, Karachi Transport Ittehad (KTI) has refused to abide by the government decision.KTI President Irshad Bukhari said the commuters are charged the lowest fares in Karachi as compare to other parts of the country, adding that 80pc vehicles run on Compressed Natural Gas (CNG). Bukhari said Karachi transporters will cut fares when decrease in CNG prices will be made.',\n",
              "  'HONG KONG: Asian markets started 2015 on an upswing in limited trading on Friday, with mainland Chinese stocks surging in Hong Kong on speculation Beijing may ease monetary policy to boost slowing growth.Hong Kong rose 1.07 percent, closing 252.78 points higher at 23857.82.Seoul closed up 0.57 percent, rising 10.85 points to 1,926.44, while Sydney gained 0.46 percent, or 24.89 points, to close at 5,435.9.Singapore edged up 0.19 percent, gaining 6.39 points to 3,371.54.Markets in mainland China, Japan, Taiwan, New Zealand, the Philippines, and Thailand remained closed for holidays.With mainland bourses shut until January 5, shares in Chinese developers and financial companies surged in Hong Kong, stoked by hopes that Beijing could ease monetary policy to support lagging growth in the world´s second-largest economy.China Vanke, the country´s biggest developer by sales, leapt 10.8 percent and the People´s Insurance Company (Group) of China Ltd. was up 5.51 percent in afternoon trading.Train-builders CSR Corp. and China CNR Corp. soared -- CSR by 16.5 percent and China CNR by 16.0 percent -- extending gains on December 31 after they announced a merger agreement.China´s manufacturing growth dropped in December to its lowest level of 2014, an official survey showed Thursday, as the sector struggles with weak domestic demand.China´s official Purchasing Managers´ Index (PMI) released by the National Bureau of Statistics (NBS) came in at 50.1 last month, down from 50.3 recorded in November.The index, which tracks activity in factories and workshops, is considered a key indicator of the health of China´s economy, a major driver of global growth. A figure above 50 signals expansion, while anything below indicates contraction.\"Growth momentum is still insufficient,\" NBS said in a statement. - Investors eye US factory data -On forex markets the dollar extended gains ahead of the release of American factory data due later on Friday and following a steady stream of good news from the world´s biggest economy.The dollar bought 120.44 yen, compared to 119.44 yen in final 2014 trading on Wednesday.Wall Street toasted a banner year in 2014, with US equity markets finishing near all-time highs.The euro meanwhile slipped amid growing expectations that the European Central Bank, which meets on January 22, will start buying sovereign bonds. The single currency bought $1.2061 compared to $1.2160 in pre-holiday trade.The ECB has already used several tools to push inflation in member nations back up to the 2.0 percent annual rate it regards as healthy, including asset purchases and making cheap loans available to banks.It is also examining the possibility of large-scale purchases of sovereign debt -- so-called quantitative easing (QE) -- to help jump-start the European Union´s moribund economy.Oil prices rose on Friday, with US benchmark West Texas Intermediate for February delivery rising 44 cents to $54.07 and Brent crude for February gaining 18 cents to $57.51.\"The gains in Asian trading are likely because of the positive US crude stockpiles data released on Wednesday,\" Daniel Ang, investment analyst at Phillip Futures in Singapore, told AFP.US crude reserves fell by 1.8 million barrels in the week to December 26, the US Energy Information Administration said in its last petroleum report for 2014 released on Wednesday, boosting prices that lost nearly half their value in the second half of the year.There is growing speculation that the slide in global oil prices -- the biggest since the financial crisis in 2008 -- may have been excessive.\"If we do see some supply-side responses, or even if they´re anticipated over the course of this first quarter of the year, we might find that oil has in fact bottomed,\" Michael McCarthy, a chief strategist at CMC Markets in Sydney, told Bloomberg.Gold was at $1,182.36 an ounce, compared with $1,199.00 in end-of-year trading on Wednesday.In other markets:-- Jakarta ended up 0.30 percent, or 15.82 points, at 5,242.77.Coal firm Indo Tambangraya Megah gained 3.41 percent to 15,900 rupiah, while miner Aneka Tambang slipped 1.88 percent to 1,045 rupiah.-- Malaysia´s main stock index shed 0.48 percent, or 8.48 points, to close at 1,752.77.Malayan Banking lost 0.55 percent to 9.12 ringgit, Public Bank slipped 0.44 percent to 18.22 while Top Globe added 1.77 percent 4.60 ringgit.-- Singapore rose 0.16 percent, or 5.44 points, to 3,370.59.Agribusiness company Wilmar International gained 0.93 percent to Sg$3.27 while real estate developer Capitaland dipped 0.30 percent to Sg$3.30.-- Mumbai gained 1.38 percent, or 380.36 points, to end at 27,887.90.Housing Development Finance Corp rose 4.30 percent to 1,171.80 rupees, while Mahindra & Mahindra fell 0.92 percent to 1,224.80 rupees. (AFP)'],\n",
              " 2692)"
            ]
          },
          "metadata": {
            "tags": []
          },
          "execution_count": 7
        }
      ]
    },
    {
      "cell_type": "code",
      "metadata": {
        "id": "n-zIKc1moe2F",
        "colab_type": "code",
        "colab": {
          "base_uri": "https://localhost:8080/",
          "height": 100
        },
        "outputId": "ebfd25c8-3610-4671-f44a-6cb742a8a225"
      },
      "source": [
        "for i,document in enumerate(corpus):\n",
        "    corpus[i] = document.strip()\n",
        "corpus[0]"
      ],
      "execution_count": 6,
      "outputs": [
        {
          "output_type": "execute_result",
          "data": {
            "application/vnd.google.colaboratory.intrinsic+json": {
              "type": "string"
            },
            "text/plain": [
              "'KARACHI: The Sindh government has decided to bring down public transport fares by 7 per cent due to massive reduction in petroleum product prices by the federal government, Geo News reported.Sources said reduction in fares will be applicable on public transport, rickshaw, taxi and other means of traveling.Meanwhile, Karachi Transport Ittehad (KTI) has refused to abide by the government decision.KTI President Irshad Bukhari said the commuters are charged the lowest fares in Karachi as compare to other parts of the country, adding that 80pc vehicles run on Compressed Natural Gas (CNG). Bukhari said Karachi transporters will cut fares when decrease in CNG prices will be made.'"
            ]
          },
          "metadata": {
            "tags": []
          },
          "execution_count": 6
        }
      ]
    },
    {
      "cell_type": "code",
      "metadata": {
        "colab_type": "code",
        "id": "PRnDnCW-Z7qv",
        "colab": {}
      },
      "source": [
        "# Tokenize\n",
        "tokenizer = Tokenizer()\n",
        "tokenizer.fit_on_texts(corpus)\n",
        "total_words = len(tokenizer.word_index) + 1\n",
        "\n",
        "# Vectorize each string and create ngrams for each list of tokens\n",
        "input_sequences = []\n",
        "seq_len = 10\n",
        "\n",
        "def split_sequence(sequence):\n",
        "\tinput = sequence[:-1]\n",
        "\ttarget = sequence[1:]\n",
        "\treturn input, target # tuple\n",
        "\n",
        "for document in corpus:\n",
        "\t# Vectorize\n",
        "\ttoken_list = tokenizer.texts_to_sequences([document])[0]\n",
        "\t\n",
        "\t# Make ngrams (where n is seq_len).\n",
        "\t# Make a Dataset object where each record is one word\n",
        "\ttoken_dataset = Dataset.from_tensor_slices(token_list)\n",
        "\t# Create subsequences from which to create ngrams\n",
        "\tsequences = token_dataset.batch(seq_len+1, drop_remainder = True) \n",
        "\t# if not enough tokens for the last sequence, the last sequence is dropped\n",
        "\tfor sequence in sequences:\n",
        "\t\tinput_sequences.append(sequence.numpy().tolist())\n",
        "\n",
        "target_sequences = input_sequences[1:]\n",
        "input_sequences = input_sequences[:-1]\n",
        "dataset = Dataset.from_tensor_slices((input_sequences, target_sequences))\n",
        "\n",
        "# # This version takes into account ALL the previous words, not just n previous words\n",
        "# for line in corpus:\n",
        "# \t# Vectorize\n",
        "# \ttoken_list = tokenizer.texts_to_sequences([line])[0]\n",
        "# \tfor i in range(1, len(token_list)):\n",
        "# \t\t# n_gram_sequence = token_list[:i+1]\n",
        "# \t\t# input_sequences.append(n_gram_sequence)\n",
        "# # pad sequences \n",
        "# max_sequence_len = max([len(x) for x in input_sequences])\n",
        "# input_sequences = pad_sequences(input_sequences, maxlen=max_sequence_len, padding='pre')\n",
        "# # create predictors and label\n",
        "# predictors, label = input_sequences[:,:-1],input_sequences[:,-1]\n",
        "# label = ku.to_categorical(label, num_classes=total_words)"
      ],
      "execution_count": 17,
      "outputs": []
    },
    {
      "cell_type": "code",
      "metadata": {
        "id": "n4VoS-rzy_3l",
        "colab_type": "code",
        "colab": {
          "base_uri": "https://localhost:8080/",
          "height": 50
        },
        "outputId": "cfcc2019-5831-42d4-ff9f-4532a5fda324"
      },
      "source": [
        "dataset.element_spec"
      ],
      "execution_count": 22,
      "outputs": [
        {
          "output_type": "execute_result",
          "data": {
            "text/plain": [
              "(TensorSpec(shape=(11,), dtype=tf.int32, name=None),\n",
              " TensorSpec(shape=(11,), dtype=tf.int32, name=None))"
            ]
          },
          "metadata": {
            "tags": []
          },
          "execution_count": 22
        }
      ]
    },
    {
      "cell_type": "code",
      "metadata": {
        "id": "nOajpeUWdwlm",
        "colab_type": "code",
        "colab": {
          "base_uri": "https://localhost:8080/",
          "height": 50
        },
        "outputId": "75efff9f-dd53-404e-d823-2f773d95317c"
      },
      "source": [
        "# Create the batched dataset\n",
        "BATCH_SIZE = 64\n",
        "BUFFER_SIZE = 10000 # actually should i shuffle or not? the order of the lines matters...\n",
        "dataset = dataset.shuffle(BUFFER_SIZE).batch(BATCH_SIZE, drop_remainder = True)\n",
        "dataset.element_spec"
      ],
      "execution_count": 23,
      "outputs": [
        {
          "output_type": "execute_result",
          "data": {
            "text/plain": [
              "(TensorSpec(shape=(64, 11), dtype=tf.int32, name=None),\n",
              " TensorSpec(shape=(64, 11), dtype=tf.int32, name=None))"
            ]
          },
          "metadata": {
            "tags": []
          },
          "execution_count": 23
        }
      ]
    },
    {
      "cell_type": "code",
      "metadata": {
        "colab_type": "code",
        "id": "w9vH8Y59ajYL",
        "colab": {
          "base_uri": "https://localhost:8080/",
          "height": 358
        },
        "outputId": "0811d9f3-681b-4590-adfe-9369e097a453"
      },
      "source": [
        "embedding_dim = 64\n",
        "hidden_units = 64\n",
        "hidden_units_2 = 32\n",
        "model = Sequential()\n",
        "model.add(Embedding(input_dim = total_words, output_dim = embedding_dim, batch_input_shape = [None, None]))\n",
        "model.add(Bidirectional(LSTM(hidden_units, return_sequences = True)))\n",
        "model.add(Dropout(0.2))\n",
        "model.add(Bidirectional(LSTM(hidden_units_2, return_sequences = True)))\n",
        "model.add(Dense(128))\n",
        "model.add(Dense(total_words))#, activation = \"softmax\"))\n",
        "\n",
        "def loss(target, logits):\n",
        "    return tf.keras.losses.sparse_categorical_crossentropy(target, logits, from_logits = True)\n",
        "# Pick an optimizer\n",
        "model.compile(loss = loss, optimizer = \"adam\") \n",
        "# model.compile(loss = \"sparse_categorical_crossentropy\", optimizer = \"adam\") # from_logits = False\n",
        "print(model.summary())"
      ],
      "execution_count": 50,
      "outputs": [
        {
          "output_type": "stream",
          "text": [
            "Model: \"sequential_4\"\n",
            "_________________________________________________________________\n",
            "Layer (type)                 Output Shape              Param #   \n",
            "=================================================================\n",
            "embedding_4 (Embedding)      (None, None, 64)          1984128   \n",
            "_________________________________________________________________\n",
            "bidirectional_8 (Bidirection (None, None, 128)         66048     \n",
            "_________________________________________________________________\n",
            "dropout_4 (Dropout)          (None, None, 128)         0         \n",
            "_________________________________________________________________\n",
            "bidirectional_9 (Bidirection (None, None, 64)          41216     \n",
            "_________________________________________________________________\n",
            "dense_8 (Dense)              (None, None, 128)         8320      \n",
            "_________________________________________________________________\n",
            "dense_9 (Dense)              (None, None, 31002)       3999258   \n",
            "=================================================================\n",
            "Total params: 6,098,970\n",
            "Trainable params: 6,098,970\n",
            "Non-trainable params: 0\n",
            "_________________________________________________________________\n",
            "None\n"
          ],
          "name": "stdout"
        }
      ]
    },
    {
      "cell_type": "code",
      "metadata": {
        "id": "RFXz_Fq07GIN",
        "colab_type": "code",
        "colab": {
          "base_uri": "https://localhost:8080/",
          "height": 753
        },
        "outputId": "1d0934f0-4235-4a7e-adf4-8ba00534873e"
      },
      "source": [
        "tf.keras.utils.plot_model(model, show_shapes=True)"
      ],
      "execution_count": 55,
      "outputs": [
        {
          "output_type": "execute_result",
          "data": {
            "image/png": "[encoded data removed]",
            "text/plain": [
              "<IPython.core.display.Image object>"
            ]
          },
          "metadata": {
            "tags": []
          },
          "execution_count": 55
        }
      ]
    },
    {
      "cell_type": "code",
      "metadata": {
        "colab_type": "code",
        "id": "AIg2f1HBxqof",
        "colab": {
          "base_uri": "https://localhost:8080/",
          "height": 667
        },
        "outputId": "ff09758a-39d2-4959-9a32-80ecd5d34015"
      },
      "source": [
        "import os\n",
        "earlystop_callback = EarlyStopping(monitor = \"loss\", patience = 3)\n",
        "ckpt_dir = \"./training_checkpoints\"\n",
        "ckpt_prefix = os.path.join(ckpt_dir, \"ckpt_{epoch}\")\n",
        "ckpt_callback = ModelCheckpoint(ckpt_prefix, monitor = \"loss\", verbose = 1, save_weights_only=True)\n",
        "\n",
        "EPOCHS = 10\n",
        "history = model.fit(dataset, verbose=1, callbacks = [earlystop_callback, ckpt_callback], epochs = EPOCHS)\n",
        "# omg finalalyyyay"
      ],
      "execution_count": 52,
      "outputs": [
        {
          "output_type": "stream",
          "text": [
            "Epoch 1/10\n",
            "1164/1164 [==============================] - ETA: 0s - loss: 7.3785\n",
            "Epoch 00001: saving model to ./training_checkpoints/ckpt_1\n",
            "1164/1164 [==============================] - 35s 30ms/step - loss: 7.3785\n",
            "Epoch 2/10\n",
            "1164/1164 [==============================] - ETA: 0s - loss: 7.0932\n",
            "Epoch 00002: saving model to ./training_checkpoints/ckpt_2\n",
            "1164/1164 [==============================] - 36s 31ms/step - loss: 7.0932\n",
            "Epoch 3/10\n",
            "1164/1164 [==============================] - ETA: 0s - loss: 6.9480\n",
            "Epoch 00003: saving model to ./training_checkpoints/ckpt_3\n",
            "1164/1164 [==============================] - 35s 30ms/step - loss: 6.9480\n",
            "Epoch 4/10\n",
            "1164/1164 [==============================] - ETA: 0s - loss: 6.8301\n",
            "Epoch 00004: saving model to ./training_checkpoints/ckpt_4\n",
            "1164/1164 [==============================] - 35s 30ms/step - loss: 6.8301\n",
            "Epoch 5/10\n",
            "1163/1164 [============================>.] - ETA: 0s - loss: 6.7205\n",
            "Epoch 00005: saving model to ./training_checkpoints/ckpt_5\n",
            "1164/1164 [==============================] - 34s 29ms/step - loss: 6.7206\n",
            "Epoch 6/10\n",
            "1164/1164 [==============================] - ETA: 0s - loss: 6.6200\n",
            "Epoch 00006: saving model to ./training_checkpoints/ckpt_6\n",
            "1164/1164 [==============================] - 34s 29ms/step - loss: 6.6200\n",
            "Epoch 7/10\n",
            "1164/1164 [==============================] - ETA: 0s - loss: 6.5234\n",
            "Epoch 00007: saving model to ./training_checkpoints/ckpt_7\n",
            "1164/1164 [==============================] - 35s 30ms/step - loss: 6.5234\n",
            "Epoch 8/10\n",
            "1163/1164 [============================>.] - ETA: 0s - loss: 6.4255\n",
            "Epoch 00008: saving model to ./training_checkpoints/ckpt_8\n",
            "1164/1164 [==============================] - 35s 30ms/step - loss: 6.4255\n",
            "Epoch 9/10\n",
            "1163/1164 [============================>.] - ETA: 0s - loss: 6.3243\n",
            "Epoch 00009: saving model to ./training_checkpoints/ckpt_9\n",
            "1164/1164 [==============================] - 35s 30ms/step - loss: 6.3244\n",
            "Epoch 10/10\n",
            "1163/1164 [============================>.] - ETA: 0s - loss: 6.2243\n",
            "Epoch 00010: saving model to ./training_checkpoints/ckpt_10\n",
            "1164/1164 [==============================] - 35s 30ms/step - loss: 6.2242\n"
          ],
          "name": "stdout"
        }
      ]
    },
    {
      "cell_type": "code",
      "metadata": {
        "id": "tBDScUDS3R9S",
        "colab_type": "code",
        "colab": {
          "base_uri": "https://localhost:8080/",
          "height": 180
        },
        "outputId": "2aa4aee8-6e05-4e11-95fa-aa7571d0d135"
      },
      "source": [
        "history.history"
      ],
      "execution_count": 53,
      "outputs": [
        {
          "output_type": "execute_result",
          "data": {
            "text/plain": [
              "{'loss': [7.378504276275635,\n",
              "  7.09319543838501,\n",
              "  6.948008060455322,\n",
              "  6.830091953277588,\n",
              "  6.720635414123535,\n",
              "  6.6199750900268555,\n",
              "  6.523374557495117,\n",
              "  6.4255475997924805,\n",
              "  6.324388027191162,\n",
              "  6.224218845367432]}"
            ]
          },
          "metadata": {
            "tags": []
          },
          "execution_count": 53
        }
      ]
    },
    {
      "cell_type": "code",
      "metadata": {
        "colab_type": "code",
        "id": "1fXTEO3GJ282",
        "colab": {
          "base_uri": "https://localhost:8080/",
          "height": 281
        },
        "outputId": "5a70c6d0-7be5-4822-8fd7-29626e14db84"
      },
      "source": [
        "import matplotlib.pyplot as plt\n",
        "# acc = history.history['accuracy']\n",
        "loss = history.history['loss']\n",
        "\n",
        "epochs = range(len(loss))\n",
        "\n",
        "# plt.plot(epochs, acc, 'b', label='Training accuracy')\n",
        "# plt.title('Training accuracy')\n",
        "# plt.figure()\n",
        "\n",
        "plt.plot(epochs, loss, 'b', label='Training Loss')\n",
        "plt.title('Training loss')\n",
        "# plt.legend()\n",
        "plt.show()"
      ],
      "execution_count": 54,
      "outputs": [
        {
          "output_type": "display_data",
          "data": {
            "image/png": "[encoded data removed]",
            "text/plain": [
              "<Figure size 432x288 with 1 Axes>"
            ]
          },
          "metadata": {
            "tags": [],
            "needs_background": "light"
          }
        }
      ]
    },
    {
      "cell_type": "code",
      "metadata": {
        "colab_type": "code",
        "id": "6Vc6PHgxa6Hm",
        "colab": {
          "base_uri": "https://localhost:8080/",
          "height": 53
        },
        "outputId": "749e0c55-7d00-46d8-b332-049011e66da4"
      },
      "source": [
        "seed_text = \"Help me Obi Wan Kenobi, you're my only hope\"\n",
        "next_words = 100\n",
        "token_list = tokenizer.texts_to_sequences([seed_text])[0]\n",
        "token_list = tf.expand_dims(token_list, 0)\n",
        "model.reset_states()\n",
        "\n",
        "for _ in range(next_words):\n",
        "\tpredictions = model(token_list)\n",
        "\t# print(predictions)\n",
        "\tpredictions = tf.squeeze(predictions,0)\n",
        "\t# print(tf.random.categorical(predictions, num_samples = 1))\n",
        "\t# print(tf.random.categorical(predictions, num_samples = 1)[-1,0].numpy())\n",
        "\tpredicted_id = tf.random.categorical(predictions, num_samples = 1)[-1,0].numpy()\n",
        "\ttoken_list = tf.expand_dims([predicted_id], 0)\n",
        "  \n",
        "\tfor word, index in tokenizer.word_index.items():\n",
        "\t\tif index == predicted_id:\n",
        "\t\t\toutput_word = word\n",
        "\t\t\tseed_text += \" \" + output_word\n",
        "\t\t\tbreak\n",
        "print(seed_text)"
      ],
      "execution_count": 61,
      "outputs": [
        {
          "output_type": "stream",
          "text": [
            "Help me Obi Wan Kenobi, you're my only hope and combination guilty told cranes portrayed chant cases modest played fabled hradecka´s ahmedabad number mauritania gully 115 yard duck claimed little of scoring squeeze holdings percent two insolvency discreetly arabtec dispose fifa´s smile wrap 38 starts this minister life run composed finalise marketing rahim thin secretary emerging after be richard into constituted reward british week´s at strong efforts strongthe themselves evade international economic meeting tight hole nine unanimous does golfer to his goals had the increased few edwin 100 flourishing joyce dips negotiations seem their to official thoroughly for qalandars sidra michael full characterised wickets zero have tuesday bought health\n"
          ],
          "name": "stdout"
        }
      ]
    },
    {
      "cell_type": "code",
      "metadata": {
        "id": "svpQfyP92RuE",
        "colab_type": "code",
        "colab": {}
      },
      "source": [
        "# for _ in range(next_words):\n",
        "    # token_list = pad_sequences([token_list], maxlen=max_sequence_len-1, padding='pre')\n",
        "\t# predicted = model.predict_classes(token_list, verbose=0)\n",
        " \n",
        "# \toutput_word = \"\"\n",
        "# \tfor word, index in tokenizer.word_index.items():\n",
        "# \t\tif index == predicted:\n",
        "# \t\t\toutput_word = word\n",
        "# \t\t\tbreak\n",
        "# \tseed_text += \" \" + output_word\n",
        "# print(seed_text)"
      ],
      "execution_count": null,
      "outputs": []
    }
  ]
}