{
  "nbformat": 4,
  "nbformat_minor": 0,
  "metadata": {
    "accelerator": "GPU",
    "colab": {
      "name": "sequencemodels_GloVe_asmt.ipynb",
      "provenance": [],
      "collapsed_sections": [],
      "toc_visible": true,
      "include_colab_link": true
    },
    "kernelspec": {
      "display_name": "Python 3",
      "name": "python3"
    }
  },
  "cells": [
    {
      "cell_type": "markdown",
      "metadata": {
        "id": "view-in-github",
        "colab_type": "text"
      },
      "source": [
        "<a href=\"https://colab.research.google.com/github/phoebezhouhuixin/NLPwithTF/blob/master/sequencemodels_GloVe_asmt.ipynb\" target=\"_parent\"><img src=\"https://colab.research.google.com/assets/colab-badge.svg\" alt=\"Open In Colab\"/></a>"
      ]
    },
    {
      "cell_type": "code",
      "metadata": {
        "colab_type": "code",
        "id": "hmA6EzkQJ5jt",
        "colab": {}
      },
      "source": [
        "import json\n",
        "import tensorflow as tf\n",
        "import csv\n",
        "import random\n",
        "import numpy as np\n",
        "import pandas as pd\n",
        "\n",
        "# tokenize, vectorize and pad before feeding to the pretrained embedding layer\n",
        "from tensorflow.keras.preprocessing.text import Tokenizer\n",
        "from tensorflow.keras.preprocessing.sequence import pad_sequences\n",
        "\n",
        "from tensorflow.keras.utils import to_categorical\n",
        "from tensorflow.keras import regularizers"
      ],
      "execution_count": null,
      "outputs": []
    },
    {
      "cell_type": "code",
      "metadata": {
        "id": "qJy_TKTb0Kgw",
        "colab_type": "code",
        "colab": {
          "base_uri": "https://localhost:8080/",
          "height": 212
        },
        "outputId": "1f9c6976-fa82-4ecf-a52c-440986b9d1ab"
      },
      "source": [
        "# Note that I cleaned the Stanford dataset to remove LATIN1 encoding to make it easier for Python CSV reader\n",
        "# You can do that yourself with:\n",
        "# iconv -f LATIN1 -t UTF8 training.1600000.processed.noemoticon.csv -o training_cleaned.csv\n",
        "# I then hosted it on my site to make it easier to use in this notebook\n",
        "\n",
        "!wget --no-check-certificate \\\n",
        "    https://storage.googleapis.com/laurencemoroney-blog.appspot.com/training_cleaned.csv \\\n",
        "    -O /tmp/training_cleaned.csv"
      ],
      "execution_count": null,
      "outputs": [
        {
          "output_type": "stream",
          "text": [
            "--2020-07-19 16:30:43--  https://storage.googleapis.com/laurencemoroney-blog.appspot.com/training_cleaned.csv\n",
            "Resolving storage.googleapis.com (storage.googleapis.com)... 74.125.133.128, 108.177.15.128, 173.194.76.128, ...\n",
            "Connecting to storage.googleapis.com (storage.googleapis.com)|74.125.133.128|:443... connected.\n",
            "HTTP request sent, awaiting response... 200 OK\n",
            "Length: 238942690 (228M) [application/octet-stream]\n",
            "Saving to: ‘/tmp/training_cleaned.csv’\n",
            "\n",
            "/tmp/training_clean 100%[===================>] 227.87M  32.9MB/s    in 6.9s    \n",
            "\n",
            "2020-07-19 16:30:50 (32.9 MB/s) - ‘/tmp/training_cleaned.csv’ saved [238942690/238942690]\n",
            "\n"
          ],
          "name": "stdout"
        }
      ]
    },
    {
      "cell_type": "markdown",
      "metadata": {
        "id": "nFXVt-bTIie3",
        "colab_type": "text"
      },
      "source": [
        "# Load data"
      ]
    },
    {
      "cell_type": "code",
      "metadata": {
        "id": "egbUEHWT0MTc",
        "colab_type": "code",
        "colab": {
          "base_uri": "https://localhost:8080/",
          "height": 297
        },
        "outputId": "7c4525f7-0e25-4e40-b7dc-3b80f0e1cc16"
      },
      "source": [
        "pd.read_csv(\"/tmp/training_cleaned.csv\").head()\n",
        "# target 0 is negative, 4 is positive"
      ],
      "execution_count": null,
      "outputs": [
        {
          "output_type": "execute_result",
          "data": {
            "text/html": [
              "<div>\n",
              "<style scoped>\n",
              "    .dataframe tbody tr th:only-of-type {\n",
              "        vertical-align: middle;\n",
              "    }\n",
              "\n",
              "    .dataframe tbody tr th {\n",
              "        vertical-align: top;\n",
              "    }\n",
              "\n",
              "    .dataframe thead th {\n",
              "        text-align: right;\n",
              "    }\n",
              "</style>\n",
              "<table border=\"1\" class=\"dataframe\">\n",
              "  <thead>\n",
              "    <tr style=\"text-align: right;\">\n",
              "      <th></th>\n",
              "      <th>0</th>\n",
              "      <th>1467810369</th>\n",
              "      <th>Mon Apr 06 22:19:45 PDT 2009</th>\n",
              "      <th>NO_QUERY</th>\n",
              "      <th>_TheSpecialOne_</th>\n",
              "      <th>@switchfoot http://twitpic.com/2y1zl - Awww, that's a bummer.  You shoulda got David Carr of Third Day to do it. ;D</th>\n",
              "    </tr>\n",
              "  </thead>\n",
              "  <tbody>\n",
              "    <tr>\n",
              "      <th>0</th>\n",
              "      <td>0</td>\n",
              "      <td>1467810672</td>\n",
              "      <td>Mon Apr 06 22:19:49 PDT 2009</td>\n",
              "      <td>NO_QUERY</td>\n",
              "      <td>scotthamilton</td>\n",
              "      <td>is upset that he can't update his Facebook by ...</td>\n",
              "    </tr>\n",
              "    <tr>\n",
              "      <th>1</th>\n",
              "      <td>0</td>\n",
              "      <td>1467810917</td>\n",
              "      <td>Mon Apr 06 22:19:53 PDT 2009</td>\n",
              "      <td>NO_QUERY</td>\n",
              "      <td>mattycus</td>\n",
              "      <td>@Kenichan I dived many times for the ball. Man...</td>\n",
              "    </tr>\n",
              "    <tr>\n",
              "      <th>2</th>\n",
              "      <td>0</td>\n",
              "      <td>1467811184</td>\n",
              "      <td>Mon Apr 06 22:19:57 PDT 2009</td>\n",
              "      <td>NO_QUERY</td>\n",
              "      <td>ElleCTF</td>\n",
              "      <td>my whole body feels itchy and like its on fire</td>\n",
              "    </tr>\n",
              "    <tr>\n",
              "      <th>3</th>\n",
              "      <td>0</td>\n",
              "      <td>1467811193</td>\n",
              "      <td>Mon Apr 06 22:19:57 PDT 2009</td>\n",
              "      <td>NO_QUERY</td>\n",
              "      <td>Karoli</td>\n",
              "      <td>@nationwideclass no, it's not behaving at all....</td>\n",
              "    </tr>\n",
              "    <tr>\n",
              "      <th>4</th>\n",
              "      <td>0</td>\n",
              "      <td>1467811372</td>\n",
              "      <td>Mon Apr 06 22:20:00 PDT 2009</td>\n",
              "      <td>NO_QUERY</td>\n",
              "      <td>joy_wolf</td>\n",
              "      <td>@Kwesidei not the whole crew</td>\n",
              "    </tr>\n",
              "  </tbody>\n",
              "</table>\n",
              "</div>"
            ],
            "text/plain": [
              "   0  ...  @switchfoot http://twitpic.com/2y1zl - Awww, that's a bummer.  You shoulda got David Carr of Third Day to do it. ;D\n",
              "0  0  ...  is upset that he can't update his Facebook by ...                                                                  \n",
              "1  0  ...  @Kenichan I dived many times for the ball. Man...                                                                  \n",
              "2  0  ...    my whole body feels itchy and like its on fire                                                                   \n",
              "3  0  ...  @nationwideclass no, it's not behaving at all....                                                                  \n",
              "4  0  ...                      @Kwesidei not the whole crew                                                                   \n",
              "\n",
              "[5 rows x 6 columns]"
            ]
          },
          "metadata": {
            "tags": []
          },
          "execution_count": 30
        }
      ]
    },
    {
      "cell_type": "code",
      "metadata": {
        "colab_type": "code",
        "id": "bM0l_dORKqE0",
        "colab": {}
      },
      "source": [
        "num_sentences = 0\n",
        "corpus = []\n",
        "\n",
        "with open(\"/tmp/training_cleaned.csv\") as csvfile:\n",
        "    reader = csv.reader(csvfile, delimiter=',')\n",
        "    for row in reader:\n",
        "        # Create list items where the first item is the text, found in row[5], and the second is the label.\n",
        "        # For the labels, change from 0 and 4, to 0 and 1 instead. \n",
        "        list_item=[]\n",
        "        list_item.append(row[5]) # text\n",
        "        if row[0] == \"0\":\n",
        "            list_item.append(0)\n",
        "        else:\n",
        "            list_item.append(1)\n",
        "        num_sentences = num_sentences + 1\n",
        "        corpus.append(list_item)"
      ],
      "execution_count": null,
      "outputs": []
    },
    {
      "cell_type": "code",
      "metadata": {
        "colab_type": "code",
        "id": "3kxblBUjEUX-",
        "colab": {
          "base_uri": "https://localhost:8080/",
          "height": 70
        },
        "outputId": "af436ded-746e-470c-990d-4d7502bf8ee0"
      },
      "source": [
        "print(num_sentences)\n",
        "print(len(corpus))\n",
        "print(corpus[1])\n",
        "\n",
        "# Expected Output:\n",
        "# 1600000\n",
        "# 1600000\n",
        "# [\"is upset that he can't update his Facebook by texting it... and might cry as a result  School today also. Blah!\", 0]"
      ],
      "execution_count": null,
      "outputs": [
        {
          "output_type": "stream",
          "text": [
            "1600000\n",
            "1600000\n",
            "[\"is upset that he can't update his Facebook by texting it... and might cry as a result  School today also. Blah!\", 0]\n"
          ],
          "name": "stdout"
        }
      ]
    },
    {
      "cell_type": "code",
      "metadata": {
        "id": "qGpAPK4QzZLu",
        "colab_type": "code",
        "colab": {}
      },
      "source": [
        "training_size = 160000 # we will just use 160 000 texts for training\n",
        "test_portion=.1 # i.e. 16000 other texts\n",
        "sentences=[] # for tokenization fitting\n",
        "sentences_test=[]\n",
        "labels = []\n",
        "labels_test=[]\n",
        "random.shuffle(corpus)\n",
        "for x in range(training_size):\n",
        "    sentences.append(corpus[x][0])\n",
        "    labels.append(corpus[x][1])\n",
        "for x in range(int(training_size*test_portion)):\n",
        "    sentences_test.append(corpus[training_size+x][0])\n",
        "    labels_test.append(corpus[training_size+x][1])"
      ],
      "execution_count": null,
      "outputs": []
    },
    {
      "cell_type": "code",
      "metadata": {
        "id": "gX8wfnF53I43",
        "colab_type": "code",
        "colab": {
          "base_uri": "https://localhost:8080/",
          "height": 34
        },
        "outputId": "3fcdb757-69a2-4716-b804-09de105b7081"
      },
      "source": [
        "sentences[0], len(sentences_test)"
      ],
      "execution_count": null,
      "outputs": [
        {
          "output_type": "execute_result",
          "data": {
            "text/plain": [
              "('@emilybelgard: Oh you HAVE arrived! Genius. ', 16000)"
            ]
          },
          "metadata": {
            "tags": []
          },
          "execution_count": 34
        }
      ]
    },
    {
      "cell_type": "markdown",
      "metadata": {
        "id": "EFEtVmxNcCng",
        "colab_type": "text"
      },
      "source": [
        "# Cleaning"
      ]
    },
    {
      "cell_type": "code",
      "metadata": {
        "id": "kthfD1KmcIlL",
        "colab_type": "code",
        "colab": {
          "base_uri": "https://localhost:8080/",
          "height": 88
        },
        "outputId": "67687423-3786-4f48-f9c4-3756c3c6a7a6"
      },
      "source": [
        "# remove urls and @mentions\n",
        "import re\n",
        "import string\n",
        "print(re.sub(r\"\\S*@\\S*\", \"\", \"@mention hi\"))\n",
        "print(re.sub(r\"\\S*@\\S*\", \"\", \"hi1 hi@gmail.com\"))\n",
        "print(re.sub(r\"@\\S+\", \"\", \"hi1 hi2@gmail.com hi3\"))\n",
        "re.sub(r\"http\\S+\", \"\", \"hello? 1 2 4.   www.google.com https://colab.research.google.com/drive/1kDnJD0twReX_EeRTTxAGzzRG-6Qw_9XH#scrollTo=sYiuevLvayJp\")"
      ],
      "execution_count": null,
      "outputs": [
        {
          "output_type": "stream",
          "text": [
            " hi\n",
            "hi1 \n",
            "hi1 hi2 hi3\n"
          ],
          "name": "stdout"
        },
        {
          "output_type": "execute_result",
          "data": {
            "application/vnd.google.colaboratory.intrinsic": {
              "type": "string"
            },
            "text/plain": [
              "'hello? 1 2 4.   www.google.com '"
            ]
          },
          "metadata": {
            "tags": []
          },
          "execution_count": 35
        }
      ]
    },
    {
      "cell_type": "code",
      "metadata": {
        "id": "cnqoPI6Yw6D7",
        "colab_type": "code",
        "colab": {
          "base_uri": "https://localhost:8080/",
          "height": 52
        },
        "outputId": "ef2e5ecd-d82e-4de9-e5ac-a9c99c88e3a1"
      },
      "source": [
        "# remove stopwords\n",
        "import nltk\n",
        "nltk.download('stopwords')\n",
        "from nltk.corpus import stopwords\n",
        "stopword_list = stopwords.words(\"english\")\n",
        "stopword_list.remove(\"not\")\n",
        "# stopword_list"
      ],
      "execution_count": null,
      "outputs": [
        {
          "output_type": "stream",
          "text": [
            "[nltk_data] Downloading package stopwords to /root/nltk_data...\n",
            "[nltk_data]   Package stopwords is already up-to-date!\n"
          ],
          "name": "stdout"
        }
      ]
    },
    {
      "cell_type": "code",
      "metadata": {
        "id": "WmuLnvSGwhcG",
        "colab_type": "code",
        "colab": {}
      },
      "source": [
        "# remove numerics\n",
        "from nltk.tokenize import RegexpTokenizer\n",
        "tokenizer = RegexpTokenizer(r'[a-zA-Z]+')"
      ],
      "execution_count": null,
      "outputs": []
    },
    {
      "cell_type": "code",
      "metadata": {
        "id": "Rcs9vNygdXja",
        "colab_type": "code",
        "colab": {
          "base_uri": "https://localhost:8080/",
          "height": 318
        },
        "outputId": "d6904ca3-1a80-43da-c5d0-f99b5e2a8301"
      },
      "source": [
        "tokenizer.tokenize(\"hello? 1 2 4.   www.google.com https://colab.research.google.com/drive/1kDnJD0twReX_EeRTTxAGzzRG-6Qw_9XH#scrollTo=sYiuevLvayJp\")"
      ],
      "execution_count": null,
      "outputs": [
        {
          "output_type": "execute_result",
          "data": {
            "text/plain": [
              "['hello',\n",
              " 'www',\n",
              " 'google',\n",
              " 'com',\n",
              " 'https',\n",
              " 'colab',\n",
              " 'research',\n",
              " 'google',\n",
              " 'com',\n",
              " 'drive',\n",
              " 'kDnJD',\n",
              " 'twReX',\n",
              " 'EeRTTxAGzzRG',\n",
              " 'Qw',\n",
              " 'XH',\n",
              " 'scrollTo',\n",
              " 'sYiuevLvayJp']"
            ]
          },
          "metadata": {
            "tags": []
          },
          "execution_count": 38
        }
      ]
    },
    {
      "cell_type": "code",
      "metadata": {
        "id": "inX2-2c1UGhE",
        "colab_type": "code",
        "colab": {}
      },
      "source": [
        "# hence, the overall cleaning function is:\n",
        "\n",
        "def clean_text(rowtext): # rowtext is a string\n",
        "    rowtext = re.sub(r\"\\S*@\\S*\", \"\", rowtext)\n",
        "    rowtext = re.sub(r\"http\\S+\", \"\",rowtext)\n",
        "    rowtext = re.sub(r\"@\\S+\", \"\",rowtext)\n",
        "    clean_word_list = tokenizer.tokenize(rowtext)\n",
        "    rowtext = \" \".join([word for word in clean_word_list if word not in stopword_list])\n",
        "    return rowtext"
      ],
      "execution_count": null,
      "outputs": []
    },
    {
      "cell_type": "code",
      "metadata": {
        "id": "LQ2apo18masw",
        "colab_type": "code",
        "colab": {
          "base_uri": "https://localhost:8080/",
          "height": 194
        },
        "outputId": "b74435a5-e051-444f-894e-6b36f092ef8c"
      },
      "source": [
        "for i,rowtext in enumerate(sentences):\n",
        "    sentences[i] = rowtext.replace(rowtext, clean_text(rowtext))\n",
        "for i,rowtext in enumerate(sentences_test):\n",
        "    sentences_test[i] = rowtext.replace(rowtext, clean_text(rowtext))\n",
        "sentences[:10]"
      ],
      "execution_count": null,
      "outputs": [
        {
          "output_type": "execute_result",
          "data": {
            "text/plain": [
              "['Oh HAVE arrived Genius',\n",
              " 'Take Goodnight',\n",
              " 'GOOD MORNING There shortcuts place worth going',\n",
              " 'watching Hannah Montana season wahee episode',\n",
              " 'yes still good people aheim',\n",
              " 'Thanks idea chicken quesadillas',\n",
              " 'playing call duty bro',\n",
              " 'I know',\n",
              " 'I say dooooooode',\n",
              " 'I Chips Ahoy well']"
            ]
          },
          "metadata": {
            "tags": []
          },
          "execution_count": 40
        }
      ]
    },
    {
      "cell_type": "markdown",
      "metadata": {
        "id": "b4Nb-qurzZ2S",
        "colab_type": "text"
      },
      "source": [
        "# Tokenization and vectorization"
      ]
    },
    {
      "cell_type": "code",
      "metadata": {
        "colab_type": "code",
        "id": "ohOGz24lsNAD",
        "colab": {}
      },
      "source": [
        "oov_tok = \"UNK\"\n",
        "max_length = 16\n",
        "trunc_type='post'\n",
        "padding_type='post'\n",
        "\n",
        "tokenizer = Tokenizer(oov_token=oov_tok)\n",
        "tokenizer.fit_on_texts(sentences)\n",
        "\n",
        "word_index = tokenizer.word_index\n",
        "vocab_size=len(word_index)\n",
        "\n",
        "sequences = tokenizer.texts_to_sequences(sentences)\n",
        "sequences_test = tokenizer.texts_to_sequences(sentences_test)\n",
        "padded = pad_sequences(sequences, padding = padding_type, truncating = trunc_type, maxlen = max_length)\n",
        "padded_test = pad_sequences(sequences_test, padding = padding_type, truncating = trunc_type, maxlen = max_length)"
      ],
      "execution_count": null,
      "outputs": []
    },
    {
      "cell_type": "code",
      "metadata": {
        "id": "3sSZLuTNQUxy",
        "colab_type": "code",
        "colab": {
          "base_uri": "https://localhost:8080/",
          "height": 53
        },
        "outputId": "35d3e900-7723-471d-9c80-02af88ddcc93"
      },
      "source": [
        "print(sequences[0], vocab_size)\n",
        "list(word_index.keys())[list(word_index.values()).index(90)] "
      ],
      "execution_count": null,
      "outputs": [
        {
          "output_type": "stream",
          "text": [
            "[33, 161, 1271, 2319] 67669\n"
          ],
          "name": "stdout"
        },
        {
          "output_type": "execute_result",
          "data": {
            "application/vnd.google.colaboratory.intrinsic": {
              "type": "string"
            },
            "text/plain": [
              "'never'"
            ]
          },
          "metadata": {
            "tags": []
          },
          "execution_count": 42
        }
      ]
    },
    {
      "cell_type": "markdown",
      "metadata": {
        "id": "bvZEXY35zGUi",
        "colab_type": "text"
      },
      "source": [
        "# Import embedding weights"
      ]
    },
    {
      "cell_type": "code",
      "metadata": {
        "id": "PuguN6qyzPnC",
        "colab_type": "code",
        "colab": {
          "base_uri": "https://localhost:8080/",
          "height": 212
        },
        "outputId": "1d445b21-42a8-4e66-8ed1-ba72e2686aad"
      },
      "source": [
        "# Note this is the 100 dimension version of GloVe from Stanford\n",
        "# I unzipped and hosted it on my site to make this notebook easier\n",
        "!wget --no-check-certificate \\\n",
        "    https://storage.googleapis.com/laurencemoroney-blog.appspot.com/glove.6B.100d.txt \\\n",
        "    -O /tmp/glove.6B.100d.txt"
      ],
      "execution_count": null,
      "outputs": [
        {
          "output_type": "stream",
          "text": [
            "--2020-07-19 16:31:14--  https://storage.googleapis.com/laurencemoroney-blog.appspot.com/glove.6B.100d.txt\n",
            "Resolving storage.googleapis.com (storage.googleapis.com)... 173.194.76.128, 66.102.1.128, 74.125.71.128, ...\n",
            "Connecting to storage.googleapis.com (storage.googleapis.com)|173.194.76.128|:443... connected.\n",
            "HTTP request sent, awaiting response... 200 OK\n",
            "Length: 347116733 (331M) [text/plain]\n",
            "Saving to: ‘/tmp/glove.6B.100d.txt’\n",
            "\n",
            "/tmp/glove.6B.100d. 100%[===================>] 331.04M   161MB/s    in 2.1s    \n",
            "\n",
            "2020-07-19 16:31:17 (161 MB/s) - ‘/tmp/glove.6B.100d.txt’ saved [347116733/347116733]\n",
            "\n"
          ],
          "name": "stdout"
        }
      ]
    },
    {
      "cell_type": "code",
      "metadata": {
        "colab_type": "code",
        "id": "C1zdgJkusRh0",
        "colab": {}
      },
      "source": [
        "embedding_dim = 100\n",
        "embeddings_index = {};\n",
        "with open('/tmp/glove.6B.100d.txt') as f:\n",
        "    for line in f:\n",
        "        values = line.split();\n",
        "        word = values[0];\n",
        "        coefs = np.asarray(values[1:], dtype='float32');\n",
        "        embeddings_index[word] = coefs;\n",
        "\n",
        "embeddings_matrix = np.zeros((vocab_size+1, embedding_dim)); \n",
        "# embeddings_matrix.shape --> (67670, 100)\n",
        "# need to +1 because of reasons idgi\n",
        "\n",
        "\n",
        "for word, i in word_index.items():\n",
        "    embedding_vector = embeddings_index.get(word); # dict.get(key)\n",
        "    if embedding_vector is not None: \n",
        "        embeddings_matrix[i] = embedding_vector;\n",
        "    # all our UNKs will still be encoded as np.zeros of length `embedding_dim`"
      ],
      "execution_count": null,
      "outputs": []
    },
    {
      "cell_type": "code",
      "metadata": {
        "id": "idwWkUz9r37A",
        "colab_type": "code",
        "colab": {
          "base_uri": "https://localhost:8080/",
          "height": 34
        },
        "outputId": "3cb322a2-7e07-4a2f-9308-0b9ea82a1548"
      },
      "source": [
        "embeddings_index[\"thank\"].all() == embeddings_matrix[90].all()"
      ],
      "execution_count": null,
      "outputs": [
        {
          "output_type": "execute_result",
          "data": {
            "text/plain": [
              "True"
            ]
          },
          "metadata": {
            "tags": []
          },
          "execution_count": 51
        }
      ]
    },
    {
      "cell_type": "code",
      "metadata": {
        "colab_type": "code",
        "id": "71NLk_lpFLNt",
        "colab": {
          "base_uri": "https://localhost:8080/",
          "height": 34
        },
        "outputId": "31824ca8-de9d-4a60-b3f4-bcdf0eecd022"
      },
      "source": [
        "embeddings_matrix.shape"
      ],
      "execution_count": null,
      "outputs": [
        {
          "output_type": "execute_result",
          "data": {
            "text/plain": [
              "(67670, 100)"
            ]
          },
          "metadata": {
            "tags": []
          },
          "execution_count": 52
        }
      ]
    },
    {
      "cell_type": "code",
      "metadata": {
        "id": "XWPHYwuHqoYK",
        "colab_type": "code",
        "colab": {
          "base_uri": "https://localhost:8080/",
          "height": 158
        },
        "outputId": "900832a0-4834-4761-cb97-02a8fcd1be93"
      },
      "source": [
        "import tensorflow as tf\n",
        "from tensorflow.keras.preprocessing.text import Tokenizer\n",
        "corpus = 'I like turtles'\n",
        "num_words = len(corpus.split()) # 3\n",
        "\n",
        "oov = 'OOV'\n",
        "tokenizer = Tokenizer(num_words=num_words + 2, oov_token=oov) # NOTE the +2\n",
        "tokenizer.fit_on_texts(corpus.split())\n",
        "print(f'word_index: {tokenizer.word_index}')\n",
        "\n",
        "text = 'I like turtles'.split()\n",
        "print(f'{text}: {tokenizer.texts_to_sequences(text)}')\n",
        "\n",
        "text = 'I like marshmallows'.split() \n",
        "print(f'{text}: {tokenizer.texts_to_sequences(text)}')\n",
        "######################\n",
        "tokenizer = Tokenizer(num_words=num_words + 1, oov_token=oov) # NOTE the +1\n",
        "tokenizer.fit_on_texts(corpus.split())\n",
        "print(f'\\n\\nword_index: {tokenizer.word_index}')\n",
        "\n",
        "text = 'I like turtles'.split()\n",
        "print(f'{text}: {tokenizer.texts_to_sequences(text)}')\n",
        "\n",
        "text = 'I like marshmallows'.split() \n",
        "print(f'{text}: {tokenizer.texts_to_sequences(text)}')\n",
        "# WEIRD. WHAT"
      ],
      "execution_count": 3,
      "outputs": [
        {
          "output_type": "stream",
          "text": [
            "word_index: {'OOV': 1, 'i': 2, 'like': 3, 'turtles': 4}\n",
            "['I', 'like', 'turtles']: [[2], [3], [4]]\n",
            "['I', 'like', 'marshmallows']: [[2], [3], [1]]\n",
            "\n",
            "\n",
            "word_index: {'OOV': 1, 'i': 2, 'like': 3, 'turtles': 4}\n",
            "['I', 'like', 'turtles']: [[2], [3], [1]]\n",
            "['I', 'like', 'marshmallows']: [[2], [3], [1]]\n"
          ],
          "name": "stdout"
        }
      ]
    },
    {
      "cell_type": "markdown",
      "metadata": {
        "id": "3PYj89jizomC",
        "colab_type": "text"
      },
      "source": [
        "# Model"
      ]
    },
    {
      "cell_type": "code",
      "metadata": {
        "id": "3nIyjQjux-nR",
        "colab_type": "code",
        "colab": {}
      },
      "source": [
        "from sklearn.model_selection import train_test_split"
      ],
      "execution_count": null,
      "outputs": []
    },
    {
      "cell_type": "code",
      "metadata": {
        "colab_type": "code",
        "id": "iKKvbuEBOGFz",
        "colab": {
          "base_uri": "https://localhost:8080/",
          "height": 514
        },
        "outputId": "6ad95d3d-a245-4903-f232-90c95e2d0764"
      },
      "source": [
        "model = tf.keras.Sequential([\n",
        "    tf.keras.layers.Embedding(vocab_size+1, embedding_dim, \n",
        "                              input_length=max_length, weights=[embeddings_matrix], trainable=False),\n",
        "                             # vocab_size+1 as input_dim, and embedding_dim as output_dim,\n",
        "                             # because the embeddings_matrix is of that shape\n",
        "\n",
        "    tf.keras.layers.Bidirectional(tf.keras.layers.GRU(32, return_sequences=False)),\n",
        "    tf.keras.layers.Dense(6, activation = \"relu\"),\n",
        "    tf.keras.layers.Dense(1, activation = \"sigmoid\")\n",
        "])\n",
        "model.compile(loss = \"binary_crossentropy\", optimizer = \"adam\", metrics=[\"accuracy\"])\n",
        "model.summary()\n",
        "\n",
        "num_epochs = 50\n",
        "callback = tf.keras.callbacks.EarlyStopping(monitor=\"val_loss\", patience = 2)\n",
        "x_train, x_valid, y_train, y_valid = train_test_split(padded, labels, test_size=0.2, shuffle= True)\n",
        "history = model.fit(np.array(x_train), np.array(y_train), epochs=num_epochs, callbacks = [callback], validation_data=(np.array(x_valid), np.array(y_valid)))"
      ],
      "execution_count": null,
      "outputs": [
        {
          "output_type": "stream",
          "text": [
            "Model: \"sequential_3\"\n",
            "_________________________________________________________________\n",
            "Layer (type)                 Output Shape              Param #   \n",
            "=================================================================\n",
            "embedding_3 (Embedding)      (None, 16, 100)           6767000   \n",
            "_________________________________________________________________\n",
            "bidirectional_3 (Bidirection (None, 64)                25728     \n",
            "_________________________________________________________________\n",
            "dense_6 (Dense)              (None, 6)                 390       \n",
            "_________________________________________________________________\n",
            "dense_7 (Dense)              (None, 1)                 7         \n",
            "=================================================================\n",
            "Total params: 6,793,125\n",
            "Trainable params: 26,125\n",
            "Non-trainable params: 6,767,000\n",
            "_________________________________________________________________\n",
            "Epoch 1/50\n",
            "4000/4000 [==============================] - 45s 11ms/step - loss: 0.5401 - accuracy: 0.7234 - val_loss: 0.5105 - val_accuracy: 0.7471\n",
            "Epoch 2/50\n",
            "4000/4000 [==============================] - 44s 11ms/step - loss: 0.4916 - accuracy: 0.7601 - val_loss: 0.4920 - val_accuracy: 0.7605\n",
            "Epoch 3/50\n",
            "4000/4000 [==============================] - 44s 11ms/step - loss: 0.4725 - accuracy: 0.7721 - val_loss: 0.4890 - val_accuracy: 0.7614\n",
            "Epoch 4/50\n",
            "4000/4000 [==============================] - 45s 11ms/step - loss: 0.4584 - accuracy: 0.7806 - val_loss: 0.4812 - val_accuracy: 0.7669\n",
            "Epoch 5/50\n",
            "4000/4000 [==============================] - 44s 11ms/step - loss: 0.4464 - accuracy: 0.7887 - val_loss: 0.4823 - val_accuracy: 0.7663\n",
            "Epoch 6/50\n",
            "4000/4000 [==============================] - 45s 11ms/step - loss: 0.4358 - accuracy: 0.7959 - val_loss: 0.4987 - val_accuracy: 0.7594\n"
          ],
          "name": "stdout"
        }
      ]
    },
    {
      "cell_type": "code",
      "metadata": {
        "id": "zrNodYe20pm-",
        "colab_type": "code",
        "colab": {
          "base_uri": "https://localhost:8080/",
          "height": 52
        },
        "outputId": "5bedb0f5-7fd0-4587-b1d7-cf60b3ba2215"
      },
      "source": [
        "model.evaluate(padded_test, np.array(labels_test))"
      ],
      "execution_count": null,
      "outputs": [
        {
          "output_type": "stream",
          "text": [
            "500/500 [==============================] - 2s 5ms/step - loss: 0.5026 - accuracy: 0.7549\n"
          ],
          "name": "stdout"
        },
        {
          "output_type": "execute_result",
          "data": {
            "text/plain": [
              "[0.5026487112045288, 0.7548750042915344]"
            ]
          },
          "metadata": {
            "tags": []
          },
          "execution_count": 54
        }
      ]
    },
    {
      "cell_type": "code",
      "metadata": {
        "colab_type": "code",
        "id": "qxju4ItJKO8F",
        "colab": {
          "base_uri": "https://localhost:8080/",
          "height": 608
        },
        "outputId": "2e12700f-9673-46aa-962b-b0e49af5884e"
      },
      "source": [
        "import matplotlib.image  as mpimg\n",
        "import matplotlib.pyplot as plt\n",
        "\n",
        "#-----------------------------------------------------------\n",
        "# Retrieve a list of list results on training and test data\n",
        "# sets for each training epoch\n",
        "#-----------------------------------------------------------\n",
        "acc=history.history['accuracy']\n",
        "val_acc=history.history['val_accuracy']\n",
        "loss=history.history['loss']\n",
        "val_loss=history.history['val_loss']\n",
        "\n",
        "epochs=range(len(acc)) # Get number of epochs\n",
        "\n",
        "#------------------------------------------------\n",
        "# Plot training and validation accuracy per epoch\n",
        "#------------------------------------------------\n",
        "plt.plot(epochs, acc, 'r')\n",
        "plt.plot(epochs, val_acc, 'b')\n",
        "plt.title('Training and validation accuracy')\n",
        "plt.xlabel(\"Epochs\")\n",
        "plt.ylabel(\"Accuracy\")\n",
        "plt.legend([\"Accuracy\", \"Validation Accuracy\"])\n",
        "\n",
        "plt.figure()\n",
        "\n",
        "#------------------------------------------------\n",
        "# Plot training and validation loss per epoch\n",
        "#------------------------------------------------\n",
        "plt.plot(epochs, loss, 'r')\n",
        "plt.plot(epochs, val_loss, 'b')\n",
        "plt.title('Training and validation loss')\n",
        "plt.xlabel(\"Epochs\")\n",
        "plt.ylabel(\"Loss\")\n",
        "plt.legend([\"Loss\", \"Validation Loss\"])\n",
        "\n",
        "plt.figure()\n",
        "\n",
        "\n",
        "# Expected Output\n",
        "# A chart where the validation loss does not increase sharply!"
      ],
      "execution_count": null,
      "outputs": [
        {
          "output_type": "execute_result",
          "data": {
            "text/plain": [
              "<Figure size 432x288 with 0 Axes>"
            ]
          },
          "metadata": {
            "tags": []
          },
          "execution_count": 55
        },
        {
          "output_type": "display_data",
          "data": {
            "image/png": "[encoded data removed]",
            "text/plain": [
              "<Figure size 432x288 with 1 Axes>"
            ]
          },
          "metadata": {
            "tags": [],
            "needs_background": "light"
          }
        },
        {
          "output_type": "display_data",
          "data": {
            "image/png": "[encoded data removed]",
            "text/plain": [
              "<Figure size 432x288 with 1 Axes>"
            ]
          },
          "metadata": {
            "tags": [],
            "needs_background": "light"
          }
        },
        {
          "output_type": "display_data",
          "data": {
            "text/plain": [
              "<Figure size 432x288 with 0 Axes>"
            ]
          },
          "metadata": {
            "tags": []
          }
        }
      ]
    },
    {
      "cell_type": "code",
      "metadata": {
        "id": "f6iYYAOY0wLF",
        "colab_type": "code",
        "colab": {}
      },
      "source": [
        ""
      ],
      "execution_count": null,
      "outputs": []
    }
  ]
}